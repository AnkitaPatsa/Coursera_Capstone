{
 "cells": [
  {
   "cell_type": "code",
   "execution_count": 1,
   "metadata": {
    "id": "rVIW_FuDd1Ve"
   },
   "outputs": [],
   "source": [
    "import pandas as pd\n",
    "import numpy as np\n",
    "import matplotlib.pyplot as plt\n",
    "import seaborn as sns"
   ]
  },
  {
   "cell_type": "code",
   "execution_count": 2,
   "metadata": {
    "colab": {
     "base_uri": "https://localhost:8080/"
    },
    "id": "9cTJGYVed1Vw",
    "outputId": "25473018-93bc-408f-f82d-5584026e77df"
   },
   "outputs": [
    {
     "name": "stderr",
     "output_type": "stream",
     "text": [
      "/home/jupyterlab/conda/envs/python/lib/python3.6/site-packages/IPython/core/interactiveshell.py:3072: DtypeWarning: Columns (33) have mixed types.Specify dtype option on import or set low_memory=False.\n",
      "  interactivity=interactivity, compiler=compiler, result=result)\n"
     ]
    }
   ],
   "source": [
    "df=pd.read_csv('Data-Collisions.csv')"
   ]
  },
  {
   "cell_type": "code",
   "execution_count": 3,
   "metadata": {
    "colab": {
     "base_uri": "https://localhost:8080/",
     "height": 69
    },
    "id": "5QrB_Oxzd1WA",
    "outputId": "172e9904-c90b-49a1-db6c-7147624986fb"
   },
   "outputs": [
    {
     "data": {
      "text/html": [
       "<div>\n",
       "<style scoped>\n",
       "    .dataframe tbody tr th:only-of-type {\n",
       "        vertical-align: middle;\n",
       "    }\n",
       "\n",
       "    .dataframe tbody tr th {\n",
       "        vertical-align: top;\n",
       "    }\n",
       "\n",
       "    .dataframe thead th {\n",
       "        text-align: right;\n",
       "    }\n",
       "</style>\n",
       "<table border=\"1\" class=\"dataframe\">\n",
       "  <thead>\n",
       "    <tr style=\"text-align: right;\">\n",
       "      <th></th>\n",
       "      <th>SEVERITYCODE</th>\n",
       "      <th>X</th>\n",
       "      <th>Y</th>\n",
       "      <th>OBJECTID</th>\n",
       "      <th>INCKEY</th>\n",
       "      <th>COLDETKEY</th>\n",
       "      <th>REPORTNO</th>\n",
       "      <th>STATUS</th>\n",
       "      <th>ADDRTYPE</th>\n",
       "      <th>INTKEY</th>\n",
       "      <th>...</th>\n",
       "      <th>ROADCOND</th>\n",
       "      <th>LIGHTCOND</th>\n",
       "      <th>PEDROWNOTGRNT</th>\n",
       "      <th>SDOTCOLNUM</th>\n",
       "      <th>SPEEDING</th>\n",
       "      <th>ST_COLCODE</th>\n",
       "      <th>ST_COLDESC</th>\n",
       "      <th>SEGLANEKEY</th>\n",
       "      <th>CROSSWALKKEY</th>\n",
       "      <th>HITPARKEDCAR</th>\n",
       "    </tr>\n",
       "  </thead>\n",
       "  <tbody>\n",
       "  </tbody>\n",
       "</table>\n",
       "<p>0 rows × 38 columns</p>\n",
       "</div>"
      ],
      "text/plain": [
       "Empty DataFrame\n",
       "Columns: [SEVERITYCODE, X, Y, OBJECTID, INCKEY, COLDETKEY, REPORTNO, STATUS, ADDRTYPE, INTKEY, LOCATION, EXCEPTRSNCODE, EXCEPTRSNDESC, SEVERITYCODE.1, SEVERITYDESC, COLLISIONTYPE, PERSONCOUNT, PEDCOUNT, PEDCYLCOUNT, VEHCOUNT, INCDATE, INCDTTM, JUNCTIONTYPE, SDOT_COLCODE, SDOT_COLDESC, INATTENTIONIND, UNDERINFL, WEATHER, ROADCOND, LIGHTCOND, PEDROWNOTGRNT, SDOTCOLNUM, SPEEDING, ST_COLCODE, ST_COLDESC, SEGLANEKEY, CROSSWALKKEY, HITPARKEDCAR]\n",
       "Index: []\n",
       "\n",
       "[0 rows x 38 columns]"
      ]
     },
     "execution_count": 3,
     "metadata": {},
     "output_type": "execute_result"
    }
   ],
   "source": [
    "df.shape\n",
    "df.dropna()"
   ]
  },
  {
   "cell_type": "code",
   "execution_count": 4,
   "metadata": {
    "colab": {
     "base_uri": "https://localhost:8080/"
    },
    "id": "46D6p7BKd1WP",
    "outputId": "2679d483-e167-4aab-9304-9f230ea32c97"
   },
   "outputs": [
    {
     "data": {
      "text/plain": [
       "Index(['SEVERITYCODE', 'X', 'Y', 'OBJECTID', 'INCKEY', 'COLDETKEY', 'REPORTNO',\n",
       "       'STATUS', 'ADDRTYPE', 'INTKEY', 'LOCATION', 'EXCEPTRSNCODE',\n",
       "       'EXCEPTRSNDESC', 'SEVERITYCODE.1', 'SEVERITYDESC', 'COLLISIONTYPE',\n",
       "       'PERSONCOUNT', 'PEDCOUNT', 'PEDCYLCOUNT', 'VEHCOUNT', 'INCDATE',\n",
       "       'INCDTTM', 'JUNCTIONTYPE', 'SDOT_COLCODE', 'SDOT_COLDESC',\n",
       "       'INATTENTIONIND', 'UNDERINFL', 'WEATHER', 'ROADCOND', 'LIGHTCOND',\n",
       "       'PEDROWNOTGRNT', 'SDOTCOLNUM', 'SPEEDING', 'ST_COLCODE', 'ST_COLDESC',\n",
       "       'SEGLANEKEY', 'CROSSWALKKEY', 'HITPARKEDCAR'],\n",
       "      dtype='object')"
      ]
     },
     "execution_count": 4,
     "metadata": {},
     "output_type": "execute_result"
    }
   ],
   "source": [
    "df.columns"
   ]
  },
  {
   "cell_type": "code",
   "execution_count": 5,
   "metadata": {
    "id": "mB_ofkNCd1Wg"
   },
   "outputs": [],
   "source": [
    "df_mod = df[['SEVERITYCODE','SEVERITYDESC', 'ADDRTYPE', 'INCDATE','INCDTTM', 'JUNCTIONTYPE', 'INATTENTIONIND', 'UNDERINFL', 'WEATHER', 'ROADCOND', 'LIGHTCOND','SPEEDING', 'HITPARKEDCAR']]\n",
    "\n",
    "df_map = df[['SEVERITYCODE','ADDRTYPE','X', 'Y']]"
   ]
  },
  {
   "cell_type": "code",
   "execution_count": 6,
   "metadata": {
    "colab": {
     "base_uri": "https://localhost:8080/"
    },
    "id": "831Trgnwd1Wo",
    "outputId": "a967d6d1-8122-4ab9-8b96-b7f69af8fd92"
   },
   "outputs": [
    {
     "data": {
      "text/plain": [
       "(194673, 13)"
      ]
     },
     "execution_count": 6,
     "metadata": {},
     "output_type": "execute_result"
    }
   ],
   "source": [
    "df_mod.shape"
   ]
  },
  {
   "cell_type": "code",
   "execution_count": 7,
   "metadata": {
    "colab": {
     "base_uri": "https://localhost:8080/"
    },
    "id": "FURUTQ1md1Wx",
    "outputId": "1906c32b-ceab-473b-a019-3d0800b204e5"
   },
   "outputs": [
    {
     "data": {
      "text/plain": [
       "<bound method DataFrame.info of         SEVERITYCODE                    SEVERITYDESC      ADDRTYPE  \\\n",
       "0                  2                Injury Collision  Intersection   \n",
       "1                  1  Property Damage Only Collision         Block   \n",
       "2                  1  Property Damage Only Collision         Block   \n",
       "3                  1  Property Damage Only Collision         Block   \n",
       "4                  2                Injury Collision  Intersection   \n",
       "...              ...                             ...           ...   \n",
       "194668             2                Injury Collision         Block   \n",
       "194669             1  Property Damage Only Collision         Block   \n",
       "194670             2                Injury Collision  Intersection   \n",
       "194671             2                Injury Collision  Intersection   \n",
       "194672             1  Property Damage Only Collision         Block   \n",
       "\n",
       "                       INCDATE                 INCDTTM  \\\n",
       "0       2013/03/27 00:00:00+00    3/27/2013 2:54:00 PM   \n",
       "1       2006/12/20 00:00:00+00   12/20/2006 6:55:00 PM   \n",
       "2       2004/11/18 00:00:00+00  11/18/2004 10:20:00 AM   \n",
       "3       2013/03/29 00:00:00+00    3/29/2013 9:26:00 AM   \n",
       "4       2004/01/28 00:00:00+00    1/28/2004 8:04:00 AM   \n",
       "...                        ...                     ...   \n",
       "194668  2018/11/12 00:00:00+00   11/12/2018 8:12:00 AM   \n",
       "194669  2018/12/18 00:00:00+00   12/18/2018 9:14:00 AM   \n",
       "194670  2019/01/19 00:00:00+00    1/19/2019 9:25:00 AM   \n",
       "194671  2019/01/15 00:00:00+00    1/15/2019 4:48:00 PM   \n",
       "194672  2018/11/30 00:00:00+00   11/30/2018 3:45:00 PM   \n",
       "\n",
       "                                   JUNCTIONTYPE INATTENTIONIND UNDERINFL  \\\n",
       "0        At Intersection (intersection related)            NaN         N   \n",
       "1       Mid-Block (not related to intersection)            NaN         0   \n",
       "2       Mid-Block (not related to intersection)            NaN         0   \n",
       "3       Mid-Block (not related to intersection)            NaN         N   \n",
       "4        At Intersection (intersection related)            NaN         0   \n",
       "...                                         ...            ...       ...   \n",
       "194668  Mid-Block (not related to intersection)            NaN         N   \n",
       "194669  Mid-Block (not related to intersection)              Y         N   \n",
       "194670   At Intersection (intersection related)            NaN         N   \n",
       "194671   At Intersection (intersection related)            NaN         N   \n",
       "194672  Mid-Block (not related to intersection)            NaN         N   \n",
       "\n",
       "         WEATHER ROADCOND                LIGHTCOND SPEEDING HITPARKEDCAR  \n",
       "0       Overcast      Wet                 Daylight      NaN            N  \n",
       "1        Raining      Wet  Dark - Street Lights On      NaN            N  \n",
       "2       Overcast      Dry                 Daylight      NaN            N  \n",
       "3          Clear      Dry                 Daylight      NaN            N  \n",
       "4        Raining      Wet                 Daylight      NaN            N  \n",
       "...          ...      ...                      ...      ...          ...  \n",
       "194668     Clear      Dry                 Daylight      NaN            N  \n",
       "194669   Raining      Wet                 Daylight      NaN            N  \n",
       "194670     Clear      Dry                 Daylight      NaN            N  \n",
       "194671     Clear      Dry                     Dusk      NaN            N  \n",
       "194672     Clear      Wet                 Daylight      NaN            N  \n",
       "\n",
       "[194673 rows x 13 columns]>"
      ]
     },
     "execution_count": 7,
     "metadata": {},
     "output_type": "execute_result"
    }
   ],
   "source": [
    "df_mod.info"
   ]
  },
  {
   "cell_type": "code",
   "execution_count": 8,
   "metadata": {
    "colab": {
     "base_uri": "https://localhost:8080/"
    },
    "id": "9EOjD6OMd1XA",
    "outputId": "e0294d35-b23e-44d9-c071-d81bc7072ed3"
   },
   "outputs": [
    {
     "name": "stderr",
     "output_type": "stream",
     "text": [
      "/home/jupyterlab/conda/envs/python/lib/python3.6/site-packages/pandas/core/frame.py:4385: SettingWithCopyWarning: \n",
      "A value is trying to be set on a copy of a slice from a DataFrame\n",
      "\n",
      "See the caveats in the documentation: https://pandas.pydata.org/pandas-docs/stable/user_guide/indexing.html#returning-a-view-versus-a-copy\n",
      "  method=method,\n"
     ]
    }
   ],
   "source": [
    "df_mod.replace(\"?\", np.nan, inplace = True)"
   ]
  },
  {
   "cell_type": "code",
   "execution_count": 9,
   "metadata": {
    "colab": {
     "base_uri": "https://localhost:8080/",
     "height": 253
    },
    "id": "gjtMHym2d1XK",
    "outputId": "78729581-1e17-4885-bb94-5b0df213d8e4"
   },
   "outputs": [
    {
     "data": {
      "text/html": [
       "<div>\n",
       "<style scoped>\n",
       "    .dataframe tbody tr th:only-of-type {\n",
       "        vertical-align: middle;\n",
       "    }\n",
       "\n",
       "    .dataframe tbody tr th {\n",
       "        vertical-align: top;\n",
       "    }\n",
       "\n",
       "    .dataframe thead th {\n",
       "        text-align: right;\n",
       "    }\n",
       "</style>\n",
       "<table border=\"1\" class=\"dataframe\">\n",
       "  <thead>\n",
       "    <tr style=\"text-align: right;\">\n",
       "      <th></th>\n",
       "      <th>SEVERITYCODE</th>\n",
       "      <th>SEVERITYDESC</th>\n",
       "      <th>ADDRTYPE</th>\n",
       "      <th>INCDATE</th>\n",
       "      <th>INCDTTM</th>\n",
       "      <th>JUNCTIONTYPE</th>\n",
       "      <th>INATTENTIONIND</th>\n",
       "      <th>UNDERINFL</th>\n",
       "      <th>WEATHER</th>\n",
       "      <th>ROADCOND</th>\n",
       "      <th>LIGHTCOND</th>\n",
       "      <th>SPEEDING</th>\n",
       "      <th>HITPARKEDCAR</th>\n",
       "    </tr>\n",
       "  </thead>\n",
       "  <tbody>\n",
       "    <tr>\n",
       "      <th>0</th>\n",
       "      <td>False</td>\n",
       "      <td>False</td>\n",
       "      <td>False</td>\n",
       "      <td>False</td>\n",
       "      <td>False</td>\n",
       "      <td>False</td>\n",
       "      <td>True</td>\n",
       "      <td>False</td>\n",
       "      <td>False</td>\n",
       "      <td>False</td>\n",
       "      <td>False</td>\n",
       "      <td>True</td>\n",
       "      <td>False</td>\n",
       "    </tr>\n",
       "    <tr>\n",
       "      <th>1</th>\n",
       "      <td>False</td>\n",
       "      <td>False</td>\n",
       "      <td>False</td>\n",
       "      <td>False</td>\n",
       "      <td>False</td>\n",
       "      <td>False</td>\n",
       "      <td>True</td>\n",
       "      <td>False</td>\n",
       "      <td>False</td>\n",
       "      <td>False</td>\n",
       "      <td>False</td>\n",
       "      <td>True</td>\n",
       "      <td>False</td>\n",
       "    </tr>\n",
       "    <tr>\n",
       "      <th>2</th>\n",
       "      <td>False</td>\n",
       "      <td>False</td>\n",
       "      <td>False</td>\n",
       "      <td>False</td>\n",
       "      <td>False</td>\n",
       "      <td>False</td>\n",
       "      <td>True</td>\n",
       "      <td>False</td>\n",
       "      <td>False</td>\n",
       "      <td>False</td>\n",
       "      <td>False</td>\n",
       "      <td>True</td>\n",
       "      <td>False</td>\n",
       "    </tr>\n",
       "    <tr>\n",
       "      <th>3</th>\n",
       "      <td>False</td>\n",
       "      <td>False</td>\n",
       "      <td>False</td>\n",
       "      <td>False</td>\n",
       "      <td>False</td>\n",
       "      <td>False</td>\n",
       "      <td>True</td>\n",
       "      <td>False</td>\n",
       "      <td>False</td>\n",
       "      <td>False</td>\n",
       "      <td>False</td>\n",
       "      <td>True</td>\n",
       "      <td>False</td>\n",
       "    </tr>\n",
       "    <tr>\n",
       "      <th>4</th>\n",
       "      <td>False</td>\n",
       "      <td>False</td>\n",
       "      <td>False</td>\n",
       "      <td>False</td>\n",
       "      <td>False</td>\n",
       "      <td>False</td>\n",
       "      <td>True</td>\n",
       "      <td>False</td>\n",
       "      <td>False</td>\n",
       "      <td>False</td>\n",
       "      <td>False</td>\n",
       "      <td>True</td>\n",
       "      <td>False</td>\n",
       "    </tr>\n",
       "    <tr>\n",
       "      <th>5</th>\n",
       "      <td>False</td>\n",
       "      <td>False</td>\n",
       "      <td>False</td>\n",
       "      <td>False</td>\n",
       "      <td>False</td>\n",
       "      <td>False</td>\n",
       "      <td>True</td>\n",
       "      <td>False</td>\n",
       "      <td>False</td>\n",
       "      <td>False</td>\n",
       "      <td>False</td>\n",
       "      <td>True</td>\n",
       "      <td>False</td>\n",
       "    </tr>\n",
       "  </tbody>\n",
       "</table>\n",
       "</div>"
      ],
      "text/plain": [
       "   SEVERITYCODE  SEVERITYDESC  ADDRTYPE  INCDATE  INCDTTM  JUNCTIONTYPE  \\\n",
       "0         False         False     False    False    False         False   \n",
       "1         False         False     False    False    False         False   \n",
       "2         False         False     False    False    False         False   \n",
       "3         False         False     False    False    False         False   \n",
       "4         False         False     False    False    False         False   \n",
       "5         False         False     False    False    False         False   \n",
       "\n",
       "   INATTENTIONIND  UNDERINFL  WEATHER  ROADCOND  LIGHTCOND  SPEEDING  \\\n",
       "0            True      False    False     False      False      True   \n",
       "1            True      False    False     False      False      True   \n",
       "2            True      False    False     False      False      True   \n",
       "3            True      False    False     False      False      True   \n",
       "4            True      False    False     False      False      True   \n",
       "5            True      False    False     False      False      True   \n",
       "\n",
       "   HITPARKEDCAR  \n",
       "0         False  \n",
       "1         False  \n",
       "2         False  \n",
       "3         False  \n",
       "4         False  \n",
       "5         False  "
      ]
     },
     "execution_count": 9,
     "metadata": {},
     "output_type": "execute_result"
    }
   ],
   "source": [
    "df_mod.isnull().head(6)"
   ]
  },
  {
   "cell_type": "code",
   "execution_count": 10,
   "metadata": {
    "colab": {
     "base_uri": "https://localhost:8080/"
    },
    "id": "jAw7DQA9d1XU",
    "outputId": "7391dafd-c0a2-418b-d479-b9a25dbace62"
   },
   "outputs": [
    {
     "name": "stdout",
     "output_type": "stream",
     "text": [
      "SEVERITYCODE\n",
      "False    194673\n",
      "Name: SEVERITYCODE, dtype: int64\n",
      "SEVERITYDESC\n",
      "False    194673\n",
      "Name: SEVERITYDESC, dtype: int64\n",
      "ADDRTYPE\n",
      "False    192747\n",
      "True       1926\n",
      "Name: ADDRTYPE, dtype: int64\n",
      "INCDATE\n",
      "False    194673\n",
      "Name: INCDATE, dtype: int64\n",
      "INCDTTM\n",
      "False    194673\n",
      "Name: INCDTTM, dtype: int64\n",
      "JUNCTIONTYPE\n",
      "False    188344\n",
      "True       6329\n",
      "Name: JUNCTIONTYPE, dtype: int64\n",
      "INATTENTIONIND\n",
      "True     164868\n",
      "False     29805\n",
      "Name: INATTENTIONIND, dtype: int64\n",
      "UNDERINFL\n",
      "False    189789\n",
      "True       4884\n",
      "Name: UNDERINFL, dtype: int64\n",
      "WEATHER\n",
      "False    189592\n",
      "True       5081\n",
      "Name: WEATHER, dtype: int64\n",
      "ROADCOND\n",
      "False    189661\n",
      "True       5012\n",
      "Name: ROADCOND, dtype: int64\n",
      "LIGHTCOND\n",
      "False    189503\n",
      "True       5170\n",
      "Name: LIGHTCOND, dtype: int64\n",
      "SPEEDING\n",
      "True     185340\n",
      "False      9333\n",
      "Name: SPEEDING, dtype: int64\n",
      "HITPARKEDCAR\n",
      "False    194673\n",
      "Name: HITPARKEDCAR, dtype: int64\n"
     ]
    }
   ],
   "source": [
    "missing_data = df_mod.isnull()\n",
    "for column in missing_data.columns.values.tolist():\n",
    "    print(column)\n",
    "    print (missing_data[column].value_counts())"
   ]
  },
  {
   "cell_type": "code",
   "execution_count": 11,
   "metadata": {
    "colab": {
     "base_uri": "https://localhost:8080/"
    },
    "id": "-E1RKWmOd1Xh",
    "outputId": "053fe795-7d20-4c7f-a91b-34ee447155e2"
   },
   "outputs": [
    {
     "name": "stderr",
     "output_type": "stream",
     "text": [
      "/home/jupyterlab/conda/envs/python/lib/python3.6/site-packages/pandas/core/series.py:4569: SettingWithCopyWarning: \n",
      "A value is trying to be set on a copy of a slice from a DataFrame\n",
      "\n",
      "See the caveats in the documentation: https://pandas.pydata.org/pandas-docs/stable/user_guide/indexing.html#returning-a-view-versus-a-copy\n",
      "  method=method,\n"
     ]
    },
    {
     "data": {
      "text/plain": [
       "Block           128852\n",
       "Intersection     65070\n",
       "Alley              751\n",
       "Name: ADDRTYPE, dtype: int64"
      ]
     },
     "execution_count": 11,
     "metadata": {},
     "output_type": "execute_result"
    }
   ],
   "source": [
    "df_mod[\"ADDRTYPE\"].replace(np.nan, df_mod['ADDRTYPE'].value_counts().idxmax(), inplace=True)\n",
    "df_mod['ADDRTYPE'].value_counts()"
   ]
  },
  {
   "cell_type": "code",
   "execution_count": 12,
   "metadata": {
    "colab": {
     "base_uri": "https://localhost:8080/"
    },
    "id": "pl3g23bmd1Xu",
    "outputId": "6d0e84b1-d7b5-439f-9938-ed70c3976f3a"
   },
   "outputs": [
    {
     "data": {
      "text/plain": [
       "Mid-Block (not related to intersection)    96138\n",
       "At-Intersection                            64908\n",
       "Mid-Block (but intersection related)       22790\n",
       "RampDriveway                               10837\n",
       "Name: JUNCTIONTYPE, dtype: int64"
      ]
     },
     "execution_count": 12,
     "metadata": {},
     "output_type": "execute_result"
    }
   ],
   "source": [
    "df_mod[\"JUNCTIONTYPE\"].replace(np.nan, df_mod['JUNCTIONTYPE'].value_counts().idxmax(), inplace=True)\n",
    "df_mod[\"JUNCTIONTYPE\"].replace(\"Unknown\", df_mod['JUNCTIONTYPE'].value_counts().idxmax(), inplace=True)\n",
    "df_mod[\"JUNCTIONTYPE\"].replace(\"Ramp Junction\", 'RampDriveway', inplace=True)\n",
    "df_mod[\"JUNCTIONTYPE\"].replace(\"Driveway Junction\", 'RampDriveway', inplace=True)\n",
    "df_mod[\"JUNCTIONTYPE\"].replace(\"At Intersection (intersection related)\", 'At-Intersection', inplace=True)\n",
    "df_mod[\"JUNCTIONTYPE\"].replace(\"At Intersection (but not related to intersection)\", 'At-Intersection', inplace=True)\n",
    "df_mod['JUNCTIONTYPE'].value_counts()"
   ]
  },
  {
   "cell_type": "code",
   "execution_count": 13,
   "metadata": {
    "colab": {
     "base_uri": "https://localhost:8080/"
    },
    "id": "sRVxACF_d1X6",
    "outputId": "1b031c5c-faad-4c57-95e4-bcab4bb66ba5"
   },
   "outputs": [
    {
     "name": "stderr",
     "output_type": "stream",
     "text": [
      "/home/jupyterlab/conda/envs/python/lib/python3.6/site-packages/ipykernel_launcher.py:2: SettingWithCopyWarning: \n",
      "A value is trying to be set on a copy of a slice from a DataFrame.\n",
      "Try using .loc[row_indexer,col_indexer] = value instead\n",
      "\n",
      "See the caveats in the documentation: https://pandas.pydata.org/pandas-docs/stable/user_guide/indexing.html#returning-a-view-versus-a-copy\n",
      "  \n"
     ]
    },
    {
     "data": {
      "text/plain": [
       "0.0    180668\n",
       "1.0      9121\n",
       "Name: UNDERINFL, dtype: int64"
      ]
     },
     "execution_count": 13,
     "metadata": {},
     "output_type": "execute_result"
    }
   ],
   "source": [
    "df_mod[\"UNDERINFL\"].replace(np.nan, df['UNDERINFL'].value_counts().idxmax(), inplace=True)\n",
    "df_mod['UNDERINFL'] = df['UNDERINFL'].map({'N': 0, '0': 0, 'Y': 1, '1': 1})\n",
    "df_mod['UNDERINFL'].value_counts()"
   ]
  },
  {
   "cell_type": "code",
   "execution_count": 14,
   "metadata": {
    "colab": {
     "base_uri": "https://localhost:8080/"
    },
    "id": "-SvICTY0d1YF",
    "outputId": "3f994330-21b2-4db4-d043-14d4f7c4464d"
   },
   "outputs": [
    {
     "data": {
      "text/plain": [
       "Clear       116216\n",
       "RainSnow     34815\n",
       "Overcast     27719\n",
       "Unknown      15923\n",
       "Name: WEATHER, dtype: int64"
      ]
     },
     "execution_count": 14,
     "metadata": {},
     "output_type": "execute_result"
    }
   ],
   "source": [
    "df_mod[\"WEATHER\"].replace(np.nan, df_mod['WEATHER'].value_counts().idxmax(), inplace=True)\n",
    "df_mod[\"WEATHER\"].replace(\"Other\",\"Unknown\",inplace=True)\n",
    "df_mod[\"WEATHER\"].replace(\"Partly Cloudy\",\"Overcast\",inplace=True)\n",
    "df_mod[\"WEATHER\"].replace(\"Raining\",\"RainSnow\",inplace=True)\n",
    "df_mod[\"WEATHER\"].replace(\"Snowing\",\"RainSnow\",inplace=True)\n",
    "df_mod[\"WEATHER\"].replace(\"Sleet/Hail/Freezing Rain\",\"RainSnow\",inplace=True)\n",
    "df_mod[\"WEATHER\"].replace(\"Fog/Smog/Smoke\",\"RainSnow\",inplace=True)\n",
    "df_mod[\"WEATHER\"].replace(\"Blowing Sand/Dirt\",\"RainSnow\",inplace=True)\n",
    "df_mod[\"WEATHER\"].replace(\"Severe Crosswind\",\"RainSnow\",inplace=True)\n",
    "df_mod['WEATHER'].value_counts()"
   ]
  },
  {
   "cell_type": "code",
   "execution_count": 15,
   "metadata": {
    "colab": {
     "base_uri": "https://localhost:8080/"
    },
    "id": "J3-Z2Mded1YT",
    "outputId": "670f07aa-56e6-4ce1-91e2-cd2cf844ec5d"
   },
   "outputs": [
    {
     "data": {
      "text/plain": [
       "Dry                129522\n",
       "Wet                 47474\n",
       "Unknown             15210\n",
       "IceOilWaterSnow      2467\n",
       "Name: ROADCOND, dtype: int64"
      ]
     },
     "execution_count": 15,
     "metadata": {},
     "output_type": "execute_result"
    }
   ],
   "source": [
    "df_mod[\"ROADCOND\"].replace(np.nan, df_mod['ROADCOND'].value_counts().idxmax(), inplace=True)\n",
    "df_mod[\"ROADCOND\"].replace(\"Ice\", \"IceOilWaterSnow\", inplace=True)\n",
    "df_mod[\"ROADCOND\"].replace(\"Standing Water\", \"IceOilWaterSnow\", inplace=True)\n",
    "df_mod[\"ROADCOND\"].replace(\"Oil\", \"IceOilWaterSnow\", inplace=True)\n",
    "df_mod[\"ROADCOND\"].replace(\"Snow/Slush\", \"IceOilWaterSnow\", inplace=True)\n",
    "df_mod[\"ROADCOND\"].replace(\"Other\", \"Unknown\", inplace=True)\n",
    "df_mod[\"ROADCOND\"].replace(\"Sand/Mud/Dirt\", \"IceOilWaterSnow\", inplace=True)\n",
    "df_mod['ROADCOND'].value_counts()"
   ]
  },
  {
   "cell_type": "code",
   "execution_count": 16,
   "metadata": {
    "colab": {
     "base_uri": "https://localhost:8080/"
    },
    "id": "sCMj1L-Bd1Ye",
    "outputId": "ab1979e8-1188-455b-f0a9-6c31de352ce3"
   },
   "outputs": [
    {
     "data": {
      "text/plain": [
       "Daylight           121307\n",
       "Dark-With-Light     48507\n",
       "Unknown             13708\n",
       "DuskDawn             8404\n",
       "Dark-No-Light        2747\n",
       "Name: LIGHTCOND, dtype: int64"
      ]
     },
     "execution_count": 16,
     "metadata": {},
     "output_type": "execute_result"
    }
   ],
   "source": [
    "df_mod[\"LIGHTCOND\"].replace(np.nan, df_mod['LIGHTCOND'].value_counts().idxmax(), inplace=True)\n",
    "df_mod[\"LIGHTCOND\"].replace(\"Dark - No Street Lights\", \"Dark-No-Light\", inplace=True)\n",
    "df_mod[\"LIGHTCOND\"].replace(\"Dark - Street Lights Off\", \"Dark-No-Light\", inplace=True)\n",
    "df_mod[\"LIGHTCOND\"].replace(\"Dark - Unknown Lighting\", \"Dark-No-Light\", inplace=True)\n",
    "df_mod[\"LIGHTCOND\"].replace(\"Dark - Street Lights On\", \"Dark-With-Light\", inplace=True)\n",
    "df_mod[\"LIGHTCOND\"].replace(\"Other\", \"Unknown\", inplace=True)\n",
    "df_mod[\"LIGHTCOND\"].replace(\"Dusk\", \"DuskDawn\", inplace=True)\n",
    "df_mod[\"LIGHTCOND\"].replace(\"Dawn\", \"DuskDawn\", inplace=True)\n",
    "df_mod['LIGHTCOND'].value_counts()"
   ]
  },
  {
   "cell_type": "code",
   "execution_count": 17,
   "metadata": {
    "colab": {
     "base_uri": "https://localhost:8080/"
    },
    "id": "1Fqjhifvd1Yn",
    "outputId": "d4f9ce36-0b89-4215-a492-e6066d050dcf"
   },
   "outputs": [
    {
     "data": {
      "text/plain": [
       "count     194673\n",
       "unique         2\n",
       "top            N\n",
       "freq      164868\n",
       "Name: INATTENTIONIND, dtype: object"
      ]
     },
     "execution_count": 17,
     "metadata": {},
     "output_type": "execute_result"
    }
   ],
   "source": [
    "df_mod[\"INATTENTIONIND\"].replace(np.nan, \"N\", inplace=True)\n",
    "df_mod[\"INATTENTIONIND\"].describe()"
   ]
  },
  {
   "cell_type": "code",
   "execution_count": 18,
   "metadata": {
    "colab": {
     "base_uri": "https://localhost:8080/"
    },
    "id": "iWJHsxygd1Yy",
    "outputId": "94d047e9-7c21-4ab5-aa9a-aeb72af2a3c5"
   },
   "outputs": [
    {
     "name": "stderr",
     "output_type": "stream",
     "text": [
      "/home/jupyterlab/conda/envs/python/lib/python3.6/site-packages/pandas/core/series.py:4569: SettingWithCopyWarning: \n",
      "A value is trying to be set on a copy of a slice from a DataFrame\n",
      "\n",
      "See the caveats in the documentation: https://pandas.pydata.org/pandas-docs/stable/user_guide/indexing.html#returning-a-view-versus-a-copy\n",
      "  method=method,\n"
     ]
    },
    {
     "data": {
      "text/plain": [
       "count     194673\n",
       "unique         2\n",
       "top            N\n",
       "freq      185340\n",
       "Name: SPEEDING, dtype: object"
      ]
     },
     "execution_count": 18,
     "metadata": {},
     "output_type": "execute_result"
    }
   ],
   "source": [
    "df_mod[\"SPEEDING\"].replace(np.nan, \"N\", inplace=True)\n",
    "df_mod[\"SPEEDING\"].describe()"
   ]
  },
  {
   "cell_type": "code",
   "execution_count": 19,
   "metadata": {
    "colab": {
     "base_uri": "https://localhost:8080/"
    },
    "id": "CG2-SvTWd1ZB",
    "outputId": "29c491fc-1359-44a9-947c-5a66d8e20089"
   },
   "outputs": [
    {
     "data": {
      "text/plain": [
       "count                             194673\n",
       "unique                                 2\n",
       "top       Property Damage Only Collision\n",
       "freq                              136485\n",
       "Name: SEVERITYDESC, dtype: object"
      ]
     },
     "execution_count": 19,
     "metadata": {},
     "output_type": "execute_result"
    }
   ],
   "source": [
    "df_mod[\"SEVERITYDESC\"].describe()"
   ]
  },
  {
   "cell_type": "code",
   "execution_count": 20,
   "metadata": {
    "colab": {
     "base_uri": "https://localhost:8080/"
    },
    "id": "xUGLyNqFd1ZP",
    "outputId": "19dd8101-8447-4882-9edf-3a18f689137a"
   },
   "outputs": [
    {
     "data": {
      "text/plain": [
       "<bound method DataFrame.info of         SEVERITYCODE                    SEVERITYDESC      ADDRTYPE  \\\n",
       "0                  2                Injury Collision  Intersection   \n",
       "1                  1  Property Damage Only Collision         Block   \n",
       "2                  1  Property Damage Only Collision         Block   \n",
       "3                  1  Property Damage Only Collision         Block   \n",
       "4                  2                Injury Collision  Intersection   \n",
       "...              ...                             ...           ...   \n",
       "194668             2                Injury Collision         Block   \n",
       "194669             1  Property Damage Only Collision         Block   \n",
       "194670             2                Injury Collision  Intersection   \n",
       "194671             2                Injury Collision  Intersection   \n",
       "194672             1  Property Damage Only Collision         Block   \n",
       "\n",
       "                       INCDATE                 INCDTTM  \\\n",
       "0       2013/03/27 00:00:00+00    3/27/2013 2:54:00 PM   \n",
       "1       2006/12/20 00:00:00+00   12/20/2006 6:55:00 PM   \n",
       "2       2004/11/18 00:00:00+00  11/18/2004 10:20:00 AM   \n",
       "3       2013/03/29 00:00:00+00    3/29/2013 9:26:00 AM   \n",
       "4       2004/01/28 00:00:00+00    1/28/2004 8:04:00 AM   \n",
       "...                        ...                     ...   \n",
       "194668  2018/11/12 00:00:00+00   11/12/2018 8:12:00 AM   \n",
       "194669  2018/12/18 00:00:00+00   12/18/2018 9:14:00 AM   \n",
       "194670  2019/01/19 00:00:00+00    1/19/2019 9:25:00 AM   \n",
       "194671  2019/01/15 00:00:00+00    1/15/2019 4:48:00 PM   \n",
       "194672  2018/11/30 00:00:00+00   11/30/2018 3:45:00 PM   \n",
       "\n",
       "                                   JUNCTIONTYPE INATTENTIONIND  UNDERINFL  \\\n",
       "0                               At-Intersection              N        0.0   \n",
       "1       Mid-Block (not related to intersection)              N        0.0   \n",
       "2       Mid-Block (not related to intersection)              N        0.0   \n",
       "3       Mid-Block (not related to intersection)              N        0.0   \n",
       "4                               At-Intersection              N        0.0   \n",
       "...                                         ...            ...        ...   \n",
       "194668  Mid-Block (not related to intersection)              N        0.0   \n",
       "194669  Mid-Block (not related to intersection)              Y        0.0   \n",
       "194670                          At-Intersection              N        0.0   \n",
       "194671                          At-Intersection              N        0.0   \n",
       "194672  Mid-Block (not related to intersection)              N        0.0   \n",
       "\n",
       "         WEATHER ROADCOND        LIGHTCOND SPEEDING HITPARKEDCAR  \n",
       "0       Overcast      Wet         Daylight        N            N  \n",
       "1       RainSnow      Wet  Dark-With-Light        N            N  \n",
       "2       Overcast      Dry         Daylight        N            N  \n",
       "3          Clear      Dry         Daylight        N            N  \n",
       "4       RainSnow      Wet         Daylight        N            N  \n",
       "...          ...      ...              ...      ...          ...  \n",
       "194668     Clear      Dry         Daylight        N            N  \n",
       "194669  RainSnow      Wet         Daylight        N            N  \n",
       "194670     Clear      Dry         Daylight        N            N  \n",
       "194671     Clear      Dry         DuskDawn        N            N  \n",
       "194672     Clear      Wet         Daylight        N            N  \n",
       "\n",
       "[194673 rows x 13 columns]>"
      ]
     },
     "execution_count": 20,
     "metadata": {},
     "output_type": "execute_result"
    }
   ],
   "source": [
    "df_mod.info"
   ]
  },
  {
   "cell_type": "code",
   "execution_count": 21,
   "metadata": {
    "colab": {
     "base_uri": "https://localhost:8080/"
    },
    "id": "WtVgDshqd1Zf",
    "outputId": "1483cc6e-fea0-4261-eae2-b9b3f3886c76"
   },
   "outputs": [
    {
     "name": "stderr",
     "output_type": "stream",
     "text": [
      "/home/jupyterlab/conda/envs/python/lib/python3.6/site-packages/ipykernel_launcher.py:1: SettingWithCopyWarning: \n",
      "A value is trying to be set on a copy of a slice from a DataFrame\n",
      "\n",
      "See the caveats in the documentation: https://pandas.pydata.org/pandas-docs/stable/user_guide/indexing.html#returning-a-view-versus-a-copy\n",
      "  \"\"\"Entry point for launching an IPython kernel.\n"
     ]
    },
    {
     "data": {
      "text/plain": [
       "(189339, 4)"
      ]
     },
     "execution_count": 21,
     "metadata": {},
     "output_type": "execute_result"
    }
   ],
   "source": [
    "df_map.dropna(subset=[\"X\"], axis=0, inplace=True)\n",
    "df_map.shape"
   ]
  },
  {
   "cell_type": "code",
   "execution_count": 22,
   "metadata": {
    "colab": {
     "base_uri": "https://localhost:8080/"
    },
    "id": "Z1XEZpnod1Zw",
    "outputId": "6d65bead-6ac5-46e1-82ed-92af6c881c22"
   },
   "outputs": [
    {
     "data": {
      "text/plain": [
       "SEVERITYCODE        int64\n",
       "SEVERITYDESC       object\n",
       "ADDRTYPE           object\n",
       "INCDATE            object\n",
       "INCDTTM            object\n",
       "JUNCTIONTYPE       object\n",
       "INATTENTIONIND     object\n",
       "UNDERINFL         float64\n",
       "WEATHER            object\n",
       "ROADCOND           object\n",
       "LIGHTCOND          object\n",
       "SPEEDING           object\n",
       "HITPARKEDCAR       object\n",
       "dtype: object"
      ]
     },
     "execution_count": 22,
     "metadata": {},
     "output_type": "execute_result"
    }
   ],
   "source": [
    "df_mod.dtypes"
   ]
  },
  {
   "cell_type": "code",
   "execution_count": 23,
   "metadata": {
    "colab": {
     "base_uri": "https://localhost:8080/"
    },
    "id": "Cz52w41Xd1aB",
    "outputId": "604b905d-e3bc-4299-aff8-e1fb7592e556"
   },
   "outputs": [
    {
     "name": "stderr",
     "output_type": "stream",
     "text": [
      "/home/jupyterlab/conda/envs/python/lib/python3.6/site-packages/ipykernel_launcher.py:1: SettingWithCopyWarning: \n",
      "A value is trying to be set on a copy of a slice from a DataFrame.\n",
      "Try using .loc[row_indexer,col_indexer] = value instead\n",
      "\n",
      "See the caveats in the documentation: https://pandas.pydata.org/pandas-docs/stable/user_guide/indexing.html#returning-a-view-versus-a-copy\n",
      "  \"\"\"Entry point for launching an IPython kernel.\n",
      "/home/jupyterlab/conda/envs/python/lib/python3.6/site-packages/ipykernel_launcher.py:2: SettingWithCopyWarning: \n",
      "A value is trying to be set on a copy of a slice from a DataFrame.\n",
      "Try using .loc[row_indexer,col_indexer] = value instead\n",
      "\n",
      "See the caveats in the documentation: https://pandas.pydata.org/pandas-docs/stable/user_guide/indexing.html#returning-a-view-versus-a-copy\n",
      "  \n"
     ]
    }
   ],
   "source": [
    "df_mod['INCDTTM'] = pd.to_datetime(df_mod['INCDTTM'])\n",
    "df_mod['INCDATE'] = pd.to_datetime(df_mod['INCDATE'])"
   ]
  },
  {
   "cell_type": "code",
   "execution_count": 24,
   "metadata": {
    "colab": {
     "base_uri": "https://localhost:8080/",
     "height": 603
    },
    "id": "mCJ5UPsad1aO",
    "outputId": "0da57d61-9305-4ac8-f2af-58e6d60a9fc2"
   },
   "outputs": [
    {
     "name": "stderr",
     "output_type": "stream",
     "text": [
      "/home/jupyterlab/conda/envs/python/lib/python3.6/site-packages/ipykernel_launcher.py:1: SettingWithCopyWarning: \n",
      "A value is trying to be set on a copy of a slice from a DataFrame.\n",
      "Try using .loc[row_indexer,col_indexer] = value instead\n",
      "\n",
      "See the caveats in the documentation: https://pandas.pydata.org/pandas-docs/stable/user_guide/indexing.html#returning-a-view-versus-a-copy\n",
      "  \"\"\"Entry point for launching an IPython kernel.\n",
      "/home/jupyterlab/conda/envs/python/lib/python3.6/site-packages/ipykernel_launcher.py:2: SettingWithCopyWarning: \n",
      "A value is trying to be set on a copy of a slice from a DataFrame.\n",
      "Try using .loc[row_indexer,col_indexer] = value instead\n",
      "\n",
      "See the caveats in the documentation: https://pandas.pydata.org/pandas-docs/stable/user_guide/indexing.html#returning-a-view-versus-a-copy\n",
      "  \n"
     ]
    },
    {
     "data": {
      "text/html": [
       "<div>\n",
       "<style scoped>\n",
       "    .dataframe tbody tr th:only-of-type {\n",
       "        vertical-align: middle;\n",
       "    }\n",
       "\n",
       "    .dataframe tbody tr th {\n",
       "        vertical-align: top;\n",
       "    }\n",
       "\n",
       "    .dataframe thead th {\n",
       "        text-align: right;\n",
       "    }\n",
       "</style>\n",
       "<table border=\"1\" class=\"dataframe\">\n",
       "  <thead>\n",
       "    <tr style=\"text-align: right;\">\n",
       "      <th></th>\n",
       "      <th>SEVERITYCODE</th>\n",
       "      <th>SEVERITYDESC</th>\n",
       "      <th>ADDRTYPE</th>\n",
       "      <th>INCDATE</th>\n",
       "      <th>INCDTTM</th>\n",
       "      <th>JUNCTIONTYPE</th>\n",
       "      <th>INATTENTIONIND</th>\n",
       "      <th>UNDERINFL</th>\n",
       "      <th>WEATHER</th>\n",
       "      <th>ROADCOND</th>\n",
       "      <th>LIGHTCOND</th>\n",
       "      <th>SPEEDING</th>\n",
       "      <th>HITPARKEDCAR</th>\n",
       "      <th>hourofday</th>\n",
       "      <th>dayofweek</th>\n",
       "    </tr>\n",
       "  </thead>\n",
       "  <tbody>\n",
       "    <tr>\n",
       "      <th>0</th>\n",
       "      <td>2</td>\n",
       "      <td>Injury Collision</td>\n",
       "      <td>Intersection</td>\n",
       "      <td>2013-03-27 00:00:00+00:00</td>\n",
       "      <td>2013-03-27 14:54:00</td>\n",
       "      <td>At-Intersection</td>\n",
       "      <td>N</td>\n",
       "      <td>0.0</td>\n",
       "      <td>Overcast</td>\n",
       "      <td>Wet</td>\n",
       "      <td>Daylight</td>\n",
       "      <td>N</td>\n",
       "      <td>N</td>\n",
       "      <td>14</td>\n",
       "      <td>2</td>\n",
       "    </tr>\n",
       "    <tr>\n",
       "      <th>1</th>\n",
       "      <td>1</td>\n",
       "      <td>Property Damage Only Collision</td>\n",
       "      <td>Block</td>\n",
       "      <td>2006-12-20 00:00:00+00:00</td>\n",
       "      <td>2006-12-20 18:55:00</td>\n",
       "      <td>Mid-Block (not related to intersection)</td>\n",
       "      <td>N</td>\n",
       "      <td>0.0</td>\n",
       "      <td>RainSnow</td>\n",
       "      <td>Wet</td>\n",
       "      <td>Dark-With-Light</td>\n",
       "      <td>N</td>\n",
       "      <td>N</td>\n",
       "      <td>18</td>\n",
       "      <td>2</td>\n",
       "    </tr>\n",
       "    <tr>\n",
       "      <th>2</th>\n",
       "      <td>1</td>\n",
       "      <td>Property Damage Only Collision</td>\n",
       "      <td>Block</td>\n",
       "      <td>2004-11-18 00:00:00+00:00</td>\n",
       "      <td>2004-11-18 10:20:00</td>\n",
       "      <td>Mid-Block (not related to intersection)</td>\n",
       "      <td>N</td>\n",
       "      <td>0.0</td>\n",
       "      <td>Overcast</td>\n",
       "      <td>Dry</td>\n",
       "      <td>Daylight</td>\n",
       "      <td>N</td>\n",
       "      <td>N</td>\n",
       "      <td>10</td>\n",
       "      <td>3</td>\n",
       "    </tr>\n",
       "    <tr>\n",
       "      <th>3</th>\n",
       "      <td>1</td>\n",
       "      <td>Property Damage Only Collision</td>\n",
       "      <td>Block</td>\n",
       "      <td>2013-03-29 00:00:00+00:00</td>\n",
       "      <td>2013-03-29 09:26:00</td>\n",
       "      <td>Mid-Block (not related to intersection)</td>\n",
       "      <td>N</td>\n",
       "      <td>0.0</td>\n",
       "      <td>Clear</td>\n",
       "      <td>Dry</td>\n",
       "      <td>Daylight</td>\n",
       "      <td>N</td>\n",
       "      <td>N</td>\n",
       "      <td>9</td>\n",
       "      <td>4</td>\n",
       "    </tr>\n",
       "    <tr>\n",
       "      <th>4</th>\n",
       "      <td>2</td>\n",
       "      <td>Injury Collision</td>\n",
       "      <td>Intersection</td>\n",
       "      <td>2004-01-28 00:00:00+00:00</td>\n",
       "      <td>2004-01-28 08:04:00</td>\n",
       "      <td>At-Intersection</td>\n",
       "      <td>N</td>\n",
       "      <td>0.0</td>\n",
       "      <td>RainSnow</td>\n",
       "      <td>Wet</td>\n",
       "      <td>Daylight</td>\n",
       "      <td>N</td>\n",
       "      <td>N</td>\n",
       "      <td>8</td>\n",
       "      <td>2</td>\n",
       "    </tr>\n",
       "  </tbody>\n",
       "</table>\n",
       "</div>"
      ],
      "text/plain": [
       "   SEVERITYCODE                    SEVERITYDESC      ADDRTYPE  \\\n",
       "0             2                Injury Collision  Intersection   \n",
       "1             1  Property Damage Only Collision         Block   \n",
       "2             1  Property Damage Only Collision         Block   \n",
       "3             1  Property Damage Only Collision         Block   \n",
       "4             2                Injury Collision  Intersection   \n",
       "\n",
       "                    INCDATE             INCDTTM  \\\n",
       "0 2013-03-27 00:00:00+00:00 2013-03-27 14:54:00   \n",
       "1 2006-12-20 00:00:00+00:00 2006-12-20 18:55:00   \n",
       "2 2004-11-18 00:00:00+00:00 2004-11-18 10:20:00   \n",
       "3 2013-03-29 00:00:00+00:00 2013-03-29 09:26:00   \n",
       "4 2004-01-28 00:00:00+00:00 2004-01-28 08:04:00   \n",
       "\n",
       "                              JUNCTIONTYPE INATTENTIONIND  UNDERINFL  \\\n",
       "0                          At-Intersection              N        0.0   \n",
       "1  Mid-Block (not related to intersection)              N        0.0   \n",
       "2  Mid-Block (not related to intersection)              N        0.0   \n",
       "3  Mid-Block (not related to intersection)              N        0.0   \n",
       "4                          At-Intersection              N        0.0   \n",
       "\n",
       "    WEATHER ROADCOND        LIGHTCOND SPEEDING HITPARKEDCAR  hourofday  \\\n",
       "0  Overcast      Wet         Daylight        N            N         14   \n",
       "1  RainSnow      Wet  Dark-With-Light        N            N         18   \n",
       "2  Overcast      Dry         Daylight        N            N         10   \n",
       "3     Clear      Dry         Daylight        N            N          9   \n",
       "4  RainSnow      Wet         Daylight        N            N          8   \n",
       "\n",
       "   dayofweek  \n",
       "0          2  \n",
       "1          2  \n",
       "2          3  \n",
       "3          4  \n",
       "4          2  "
      ]
     },
     "execution_count": 24,
     "metadata": {},
     "output_type": "execute_result"
    }
   ],
   "source": [
    "df_mod['hourofday'] = df_mod['INCDTTM'].dt.hour\n",
    "df_mod['dayofweek'] = df_mod['INCDTTM'].dt.dayofweek\n",
    "df_mod.head(5)"
   ]
  },
  {
   "cell_type": "code",
   "execution_count": 25,
   "metadata": {
    "colab": {
     "base_uri": "https://localhost:8080/",
     "height": 297
    },
    "id": "mjTqp28ld1aj",
    "outputId": "2809b14f-5ef1-4c9e-fc8b-959558fe4926"
   },
   "outputs": [
    {
     "data": {
      "text/plain": [
       "<AxesSubplot:xlabel='X', ylabel='count'>"
      ]
     },
     "execution_count": 25,
     "metadata": {},
     "output_type": "execute_result"
    },
    {
     "data": {
      "image/png": "[encoded data removed]",
      "text/plain": [
       "<Figure size 432x288 with 1 Axes>"
      ]
     },
     "metadata": {
      "needs_background": "light"
     },
     "output_type": "display_data"
    }
   ],
   "source": [
    "sns.countplot(x =\"X\", data= df_map.head(100), hue=\"SEVERITYCODE\")"
   ]
  },
  {
   "cell_type": "code",
   "execution_count": 26,
   "metadata": {
    "colab": {
     "base_uri": "https://localhost:8080/",
     "height": 479
    },
    "id": "hM50OQJYd1a3",
    "outputId": "83f5b5e6-2711-4f78-df48-6de5f46dd1cb"
   },
   "outputs": [
    {
     "name": "stderr",
     "output_type": "stream",
     "text": [
      "/home/jupyterlab/conda/envs/python/lib/python3.6/site-packages/ipykernel_launcher.py:3: SettingWithCopyWarning: \n",
      "A value is trying to be set on a copy of a slice from a DataFrame.\n",
      "Try using .loc[row_indexer,col_indexer] = value instead\n",
      "\n",
      "See the caveats in the documentation: https://pandas.pydata.org/pandas-docs/stable/user_guide/indexing.html#returning-a-view-versus-a-copy\n",
      "  This is separate from the ipykernel package so we can avoid doing imports until\n"
     ]
    },
    {
     "data": {
      "text/html": [
       "<div>\n",
       "<style scoped>\n",
       "    .dataframe tbody tr th:only-of-type {\n",
       "        vertical-align: middle;\n",
       "    }\n",
       "\n",
       "    .dataframe tbody tr th {\n",
       "        vertical-align: top;\n",
       "    }\n",
       "\n",
       "    .dataframe thead th {\n",
       "        text-align: right;\n",
       "    }\n",
       "</style>\n",
       "<table border=\"1\" class=\"dataframe\">\n",
       "  <thead>\n",
       "    <tr style=\"text-align: right;\">\n",
       "      <th></th>\n",
       "      <th>X</th>\n",
       "      <th>X-binned</th>\n",
       "    </tr>\n",
       "  </thead>\n",
       "  <tbody>\n",
       "    <tr>\n",
       "      <th>0</th>\n",
       "      <td>-122.323148</td>\n",
       "      <td>Medium</td>\n",
       "    </tr>\n",
       "    <tr>\n",
       "      <th>1</th>\n",
       "      <td>-122.347294</td>\n",
       "      <td>Medium</td>\n",
       "    </tr>\n",
       "    <tr>\n",
       "      <th>2</th>\n",
       "      <td>-122.334540</td>\n",
       "      <td>Medium</td>\n",
       "    </tr>\n",
       "    <tr>\n",
       "      <th>3</th>\n",
       "      <td>-122.334803</td>\n",
       "      <td>Medium</td>\n",
       "    </tr>\n",
       "    <tr>\n",
       "      <th>4</th>\n",
       "      <td>-122.306426</td>\n",
       "      <td>Medium</td>\n",
       "    </tr>\n",
       "    <tr>\n",
       "      <th>5</th>\n",
       "      <td>-122.387598</td>\n",
       "      <td>Low</td>\n",
       "    </tr>\n",
       "    <tr>\n",
       "      <th>6</th>\n",
       "      <td>-122.338485</td>\n",
       "      <td>Medium</td>\n",
       "    </tr>\n",
       "    <tr>\n",
       "      <th>7</th>\n",
       "      <td>-122.320780</td>\n",
       "      <td>Medium</td>\n",
       "    </tr>\n",
       "    <tr>\n",
       "      <th>8</th>\n",
       "      <td>-122.335930</td>\n",
       "      <td>Medium</td>\n",
       "    </tr>\n",
       "    <tr>\n",
       "      <th>9</th>\n",
       "      <td>-122.384700</td>\n",
       "      <td>Low</td>\n",
       "    </tr>\n",
       "  </tbody>\n",
       "</table>\n",
       "</div>"
      ],
      "text/plain": [
       "            X X-binned\n",
       "0 -122.323148   Medium\n",
       "1 -122.347294   Medium\n",
       "2 -122.334540   Medium\n",
       "3 -122.334803   Medium\n",
       "4 -122.306426   Medium\n",
       "5 -122.387598      Low\n",
       "6 -122.338485   Medium\n",
       "7 -122.320780   Medium\n",
       "8 -122.335930   Medium\n",
       "9 -122.384700      Low"
      ]
     },
     "execution_count": 26,
     "metadata": {},
     "output_type": "execute_result"
    }
   ],
   "source": [
    "bins = np.linspace(min(df_map[\"X\"]), max(df_map[\"X\"]), 4)\n",
    "group_names = ['Low', 'Medium', 'High']\n",
    "df_map['X-binned'] = pd.cut(df_map['X'], bins, labels=group_names, include_lowest=True )\n",
    "df_map[['X','X-binned']].head(10)"
   ]
  },
  {
   "cell_type": "code",
   "execution_count": 27,
   "metadata": {
    "colab": {
     "base_uri": "https://localhost:8080/",
     "height": 297
    },
    "id": "9Cq3p5Rad1bK",
    "outputId": "c0aadd38-5b78-4c14-a87f-87bece661860"
   },
   "outputs": [
    {
     "data": {
      "text/plain": [
       "<AxesSubplot:xlabel='X-binned', ylabel='count'>"
      ]
     },
     "execution_count": 27,
     "metadata": {},
     "output_type": "execute_result"
    },
    {
     "data": {
      "image/png": "[encoded data removed]",
      "text/plain": [
       "<Figure size 432x288 with 1 Axes>"
      ]
     },
     "metadata": {
      "needs_background": "light"
     },
     "output_type": "display_data"
    }
   ],
   "source": [
    "sns.countplot(x =\"X-binned\", data= df_map.head(100), hue=\"SEVERITYCODE\")"
   ]
  },
  {
   "cell_type": "code",
   "execution_count": 28,
   "metadata": {
    "colab": {
     "base_uri": "https://localhost:8080/",
     "height": 202
    },
    "id": "Fep8ozYod1bb",
    "outputId": "f032e3c7-b288-46c1-97e0-22a2116e5534"
   },
   "outputs": [
    {
     "data": {
      "text/html": [
       "<div>\n",
       "<style scoped>\n",
       "    .dataframe tbody tr th:only-of-type {\n",
       "        vertical-align: middle;\n",
       "    }\n",
       "\n",
       "    .dataframe tbody tr th {\n",
       "        vertical-align: top;\n",
       "    }\n",
       "\n",
       "    .dataframe thead th {\n",
       "        text-align: right;\n",
       "    }\n",
       "</style>\n",
       "<table border=\"1\" class=\"dataframe\">\n",
       "  <thead>\n",
       "    <tr style=\"text-align: right;\">\n",
       "      <th></th>\n",
       "      <th>AddType-Block</th>\n",
       "      <th>AddType-Intersection</th>\n",
       "    </tr>\n",
       "  </thead>\n",
       "  <tbody>\n",
       "    <tr>\n",
       "      <th>0</th>\n",
       "      <td>0</td>\n",
       "      <td>1</td>\n",
       "    </tr>\n",
       "    <tr>\n",
       "      <th>1</th>\n",
       "      <td>1</td>\n",
       "      <td>0</td>\n",
       "    </tr>\n",
       "    <tr>\n",
       "      <th>2</th>\n",
       "      <td>1</td>\n",
       "      <td>0</td>\n",
       "    </tr>\n",
       "    <tr>\n",
       "      <th>3</th>\n",
       "      <td>1</td>\n",
       "      <td>0</td>\n",
       "    </tr>\n",
       "    <tr>\n",
       "      <th>4</th>\n",
       "      <td>0</td>\n",
       "      <td>1</td>\n",
       "    </tr>\n",
       "  </tbody>\n",
       "</table>\n",
       "</div>"
      ],
      "text/plain": [
       "   AddType-Block  AddType-Intersection\n",
       "0              0                     1\n",
       "1              1                     0\n",
       "2              1                     0\n",
       "3              1                     0\n",
       "4              0                     1"
      ]
     },
     "execution_count": 28,
     "metadata": {},
     "output_type": "execute_result"
    }
   ],
   "source": [
    "dummy_variable_1 = pd.get_dummies(df_map[\"ADDRTYPE\"])\n",
    "dummy_variable_1.rename(columns={'Block':'AddType-Block', 'Intersection':'AddType-Intersection'}, inplace=True)\n",
    "dummy_variable_1.head()"
   ]
  },
  {
   "cell_type": "code",
   "execution_count": 29,
   "metadata": {
    "colab": {
     "base_uri": "https://localhost:8080/",
     "height": 202
    },
    "id": "YhCDFPW6d1bs",
    "outputId": "ea65d654-184a-400d-9c69-1ec0d9aaa504"
   },
   "outputs": [
    {
     "data": {
      "text/html": [
       "<div>\n",
       "<style scoped>\n",
       "    .dataframe tbody tr th:only-of-type {\n",
       "        vertical-align: middle;\n",
       "    }\n",
       "\n",
       "    .dataframe tbody tr th {\n",
       "        vertical-align: top;\n",
       "    }\n",
       "\n",
       "    .dataframe thead th {\n",
       "        text-align: right;\n",
       "    }\n",
       "</style>\n",
       "<table border=\"1\" class=\"dataframe\">\n",
       "  <thead>\n",
       "    <tr style=\"text-align: right;\">\n",
       "      <th></th>\n",
       "      <th>SEVERITYCODE</th>\n",
       "      <th>ADDRTYPE</th>\n",
       "      <th>X</th>\n",
       "      <th>Y</th>\n",
       "      <th>X-binned</th>\n",
       "      <th>AddType-Block</th>\n",
       "      <th>AddType-Intersection</th>\n",
       "    </tr>\n",
       "  </thead>\n",
       "  <tbody>\n",
       "    <tr>\n",
       "      <th>0</th>\n",
       "      <td>2</td>\n",
       "      <td>Intersection</td>\n",
       "      <td>-122.323148</td>\n",
       "      <td>47.703140</td>\n",
       "      <td>Medium</td>\n",
       "      <td>0</td>\n",
       "      <td>1</td>\n",
       "    </tr>\n",
       "    <tr>\n",
       "      <th>1</th>\n",
       "      <td>1</td>\n",
       "      <td>Block</td>\n",
       "      <td>-122.347294</td>\n",
       "      <td>47.647172</td>\n",
       "      <td>Medium</td>\n",
       "      <td>1</td>\n",
       "      <td>0</td>\n",
       "    </tr>\n",
       "    <tr>\n",
       "      <th>2</th>\n",
       "      <td>1</td>\n",
       "      <td>Block</td>\n",
       "      <td>-122.334540</td>\n",
       "      <td>47.607871</td>\n",
       "      <td>Medium</td>\n",
       "      <td>1</td>\n",
       "      <td>0</td>\n",
       "    </tr>\n",
       "    <tr>\n",
       "      <th>3</th>\n",
       "      <td>1</td>\n",
       "      <td>Block</td>\n",
       "      <td>-122.334803</td>\n",
       "      <td>47.604803</td>\n",
       "      <td>Medium</td>\n",
       "      <td>1</td>\n",
       "      <td>0</td>\n",
       "    </tr>\n",
       "    <tr>\n",
       "      <th>4</th>\n",
       "      <td>2</td>\n",
       "      <td>Intersection</td>\n",
       "      <td>-122.306426</td>\n",
       "      <td>47.545739</td>\n",
       "      <td>Medium</td>\n",
       "      <td>0</td>\n",
       "      <td>1</td>\n",
       "    </tr>\n",
       "  </tbody>\n",
       "</table>\n",
       "</div>"
      ],
      "text/plain": [
       "   SEVERITYCODE      ADDRTYPE           X          Y X-binned  AddType-Block  \\\n",
       "0             2  Intersection -122.323148  47.703140   Medium              0   \n",
       "1             1         Block -122.347294  47.647172   Medium              1   \n",
       "2             1         Block -122.334540  47.607871   Medium              1   \n",
       "3             1         Block -122.334803  47.604803   Medium              1   \n",
       "4             2  Intersection -122.306426  47.545739   Medium              0   \n",
       "\n",
       "   AddType-Intersection  \n",
       "0                     1  \n",
       "1                     0  \n",
       "2                     0  \n",
       "3                     0  \n",
       "4                     1  "
      ]
     },
     "execution_count": 29,
     "metadata": {},
     "output_type": "execute_result"
    }
   ],
   "source": [
    "df_map = pd.concat([df_map, dummy_variable_1], axis=1)\n",
    "df_map.head(5)"
   ]
  },
  {
   "cell_type": "code",
   "execution_count": 30,
   "metadata": {
    "colab": {
     "base_uri": "https://localhost:8080/",
     "height": 343
    },
    "id": "zOawoVTId1b4",
    "outputId": "8269ae6e-ef8b-4204-959d-01ce9b1ca16f"
   },
   "outputs": [
    {
     "data": {
      "image/png": "[encoded data removed]",
      "text/plain": [
       "<Figure size 720x360 with 1 Axes>"
      ]
     },
     "metadata": {
      "needs_background": "light"
     },
     "output_type": "display_data"
    }
   ],
   "source": [
    "from matplotlib.pyplot import show\n",
    "import seaborn as sns\n",
    "\n",
    "plt.figure(figsize=(10,5))\n",
    "sns.set(style=\"darkgrid\")\n",
    "total = float(len(df_mod))\n",
    "ax = sns.countplot(x=\"JUNCTIONTYPE\", hue=\"SEVERITYDESC\", data=df_mod)\n",
    "for p in ax.patches:\n",
    "    height = p.get_height()\n",
    "    ax.text(p.get_x()+p.get_width()/2.,\n",
    "            height + 5,\n",
    "            '{:.2%}'.format(height/total),\n",
    "            ha=\"center\") \n",
    "show()"
   ]
  },
  {
   "cell_type": "code",
   "execution_count": 31,
   "metadata": {
    "colab": {
     "base_uri": "https://localhost:8080/",
     "height": 339
    },
    "id": "H02qCiVUd1cH",
    "outputId": "b30e8d1c-9ecb-4b1a-9ef2-7e29b82f6292"
   },
   "outputs": [
    {
     "data": {
      "image/png": "[encoded data removed]",
      "text/plain": [
       "<Figure size 720x360 with 1 Axes>"
      ]
     },
     "metadata": {},
     "output_type": "display_data"
    }
   ],
   "source": [
    "from matplotlib.pyplot import show\n",
    "import seaborn as sns\n",
    "\n",
    "plt.figure(figsize=(10,5))\n",
    "sns.set(style=\"darkgrid\")\n",
    "total = float(len(df_mod))\n",
    "ax = sns.countplot(x=\"ADDRTYPE\", hue=\"SEVERITYDESC\", data=df_mod)\n",
    "for p in ax.patches:\n",
    "    height = p.get_height()\n",
    "    ax.text(p.get_x()+p.get_width()/2.,\n",
    "            height + 3,\n",
    "            '{:.2%}'.format(height/total),\n",
    "            ha=\"center\") \n",
    "show()"
   ]
  },
  {
   "cell_type": "code",
   "execution_count": 32,
   "metadata": {
    "colab": {
     "base_uri": "https://localhost:8080/",
     "height": 422
    },
    "id": "oZomG5B_d1cV",
    "outputId": "8f67fcdf-9710-4d3a-efa6-cceb01ac5226"
   },
   "outputs": [
    {
     "data": {
      "image/png": "[encoded data removed]",
      "text/plain": [
       "<Figure size 1080x504 with 1 Axes>"
      ]
     },
     "metadata": {},
     "output_type": "display_data"
    }
   ],
   "source": [
    "from matplotlib.pyplot import show\n",
    "import seaborn as sns\n",
    "\n",
    "plt.figure(figsize=(15,7))\n",
    "sns.set(style=\"darkgrid\")\n",
    "total = float(len(df_mod))\n",
    "ax = sns.countplot(x=\"dayofweek\", hue=\"SEVERITYDESC\", data=df_mod) \n",
    "# Monday=0, Sunday=6\n",
    "for p in ax.patches:\n",
    "    height = p.get_height()\n",
    "    ax.text(p.get_x()+p.get_width()/2.,\n",
    "            height + 3,\n",
    "            '{:1.2%}'.format(height/total),\n",
    "            ha=\"center\") \n",
    "show()"
   ]
  },
  {
   "cell_type": "code",
   "execution_count": 33,
   "metadata": {
    "colab": {
     "base_uri": "https://localhost:8080/",
     "height": 546
    },
    "id": "n6h9tpmqd1ci",
    "outputId": "cf78d43c-57ba-4f74-83f9-0e150a1841b8"
   },
   "outputs": [
    {
     "name": "stderr",
     "output_type": "stream",
     "text": [
      "/home/jupyterlab/conda/envs/python/lib/python3.6/site-packages/ipykernel_launcher.py:1: SettingWithCopyWarning: \n",
      "A value is trying to be set on a copy of a slice from a DataFrame.\n",
      "Try using .loc[row_indexer,col_indexer] = value instead\n",
      "\n",
      "See the caveats in the documentation: https://pandas.pydata.org/pandas-docs/stable/user_guide/indexing.html#returning-a-view-versus-a-copy\n",
      "  \"\"\"Entry point for launching an IPython kernel.\n"
     ]
    },
    {
     "data": {
      "image/png": "[encoded data removed]",
      "text/plain": [
       "<Figure size 1080x504 with 1 Axes>"
      ]
     },
     "metadata": {},
     "output_type": "display_data"
    }
   ],
   "source": [
    "df_mod['weekend'] = df_mod['dayofweek'].apply(lambda x: 1 if (x>3)  else 0)\n",
    "\n",
    "plt.figure(figsize=(15,7))\n",
    "sns.set(style=\"darkgrid\")\n",
    "total = float(len(df_mod))\n",
    "ax = sns.countplot(x=\"weekend\", hue=\"SEVERITYDESC\", data=df_mod) \n",
    "# Monday=0, Sunday=6\n",
    "for p in ax.patches:\n",
    "    height = p.get_height()\n",
    "    ax.text(p.get_x()+p.get_width()/2.,\n",
    "            height + 3,\n",
    "            '{:1.2%}'.format(height/total),\n",
    "            ha=\"center\") \n",
    "show()"
   ]
  },
  {
   "cell_type": "code",
   "execution_count": 34,
   "metadata": {
    "colab": {
     "base_uri": "https://localhost:8080/",
     "height": 339
    },
    "id": "apb9uLh6d1cx",
    "outputId": "d224bece-ed7c-49d9-bb8a-a5865b9edbf6"
   },
   "outputs": [
    {
     "data": {
      "image/png": "[encoded data removed]",
      "text/plain": [
       "<Figure size 720x360 with 1 Axes>"
      ]
     },
     "metadata": {},
     "output_type": "display_data"
    }
   ],
   "source": [
    "from matplotlib.pyplot import show\n",
    "import seaborn as sns\n",
    "\n",
    "plt.figure(figsize=(10,5))\n",
    "sns.set(style=\"darkgrid\")\n",
    "total = float(len(df_mod))\n",
    "ax = sns.countplot(x=\"INATTENTIONIND\", hue=\"SEVERITYDESC\", data=df_mod)\n",
    "for p in ax.patches:\n",
    "    height = p.get_height()\n",
    "    ax.text(p.get_x()+p.get_width()/2.,\n",
    "            height + 3,\n",
    "            '{:1.2%}'.format(height/total),\n",
    "            ha=\"center\") \n",
    "show()"
   ]
  },
  {
   "cell_type": "code",
   "execution_count": 35,
   "metadata": {
    "colab": {
     "base_uri": "https://localhost:8080/",
     "height": 468
    },
    "id": "8C60eD9qd1c_",
    "outputId": "c96586f9-f1a5-4001-fb77-55b341ccbe19"
   },
   "outputs": [
    {
     "data": {
      "image/png": "[encoded data removed]",
      "text/plain": [
       "<Figure size 1080x576 with 1 Axes>"
      ]
     },
     "metadata": {},
     "output_type": "display_data"
    }
   ],
   "source": [
    "from matplotlib.pyplot import show\n",
    "import seaborn as sns\n",
    "\n",
    "plt.figure(figsize=(15,8))\n",
    "sns.set(style=\"darkgrid\")\n",
    "total = float(len(df_mod))\n",
    "ax = sns.countplot(x=\"hourofday\", hue=\"SEVERITYDESC\", data=df_mod)\n",
    "for p in ax.patches:\n",
    "    height = p.get_height()\n",
    "    ax.text(p.get_x()+p.get_width()/2.,\n",
    "            height + 3,\n",
    "            '{:1.2%}'.format(height/total),\n",
    "            ha=\"center\") \n",
    "show()"
   ]
  },
  {
   "cell_type": "code",
   "execution_count": 36,
   "metadata": {
    "colab": {
     "base_uri": "https://localhost:8080/",
     "height": 463
    },
    "id": "V4GOIoF8d1dM",
    "outputId": "a11b41b8-186f-4d18-fff7-23bbfe0fe907"
   },
   "outputs": [
    {
     "name": "stderr",
     "output_type": "stream",
     "text": [
      "/home/jupyterlab/conda/envs/python/lib/python3.6/site-packages/ipykernel_launcher.py:1: SettingWithCopyWarning: \n",
      "A value is trying to be set on a copy of a slice from a DataFrame.\n",
      "Try using .loc[row_indexer,col_indexer] = value instead\n",
      "\n",
      "See the caveats in the documentation: https://pandas.pydata.org/pandas-docs/stable/user_guide/indexing.html#returning-a-view-versus-a-copy\n",
      "  \"\"\"Entry point for launching an IPython kernel.\n"
     ]
    },
    {
     "data": {
      "image/png": "[encoded data removed]",
      "text/plain": [
       "<Figure size 720x360 with 1 Axes>"
      ]
     },
     "metadata": {},
     "output_type": "display_data"
    }
   ],
   "source": [
    "df_mod['RiskTime'] = df_mod['hourofday'].apply(lambda x: \"Low\" if x in (1,2,3,4) else (\"Medium\" if x in (5,6,7,8,9,10,11,12,13,14,15,16) else \"High\"))\n",
    "\n",
    "from matplotlib.pyplot import show\n",
    "import seaborn as sns\n",
    "\n",
    "plt.figure(figsize=(10,5))\n",
    "sns.set(style=\"darkgrid\")\n",
    "total = float(len(df_mod))\n",
    "ax = sns.countplot(x=\"RiskTime\", hue=\"SEVERITYDESC\", data=df_mod)\n",
    "for p in ax.patches:\n",
    "    height = p.get_height()\n",
    "    ax.text(p.get_x()+p.get_width()/2.,\n",
    "            height + 3,\n",
    "            '{:1.2%}'.format(height/total),\n",
    "            ha=\"center\") \n",
    "show()"
   ]
  },
  {
   "cell_type": "code",
   "execution_count": 37,
   "metadata": {
    "colab": {
     "base_uri": "https://localhost:8080/",
     "height": 339
    },
    "id": "jTEVKhM9d1dX",
    "outputId": "d46e8911-333e-41a9-9acd-eeb51b35a74d"
   },
   "outputs": [
    {
     "data": {
      "image/png": "[encoded data removed]",
      "text/plain": [
       "<Figure size 720x360 with 1 Axes>"
      ]
     },
     "metadata": {},
     "output_type": "display_data"
    }
   ],
   "source": [
    "from matplotlib.pyplot import show\n",
    "import seaborn as sns\n",
    "\n",
    "plt.figure(figsize=(10,5))\n",
    "sns.set(style=\"darkgrid\")\n",
    "total = float(len(df_mod))\n",
    "ax = sns.countplot(x=\"UNDERINFL\", hue=\"SEVERITYDESC\", data=df_mod)\n",
    "for p in ax.patches:\n",
    "    height = p.get_height()\n",
    "    ax.text(p.get_x()+p.get_width()/2.,\n",
    "            height + 3,\n",
    "            '{:1.2%}'.format(height/total),\n",
    "            ha=\"center\") \n",
    "show()"
   ]
  },
  {
   "cell_type": "code",
   "execution_count": 38,
   "metadata": {
    "colab": {
     "base_uri": "https://localhost:8080/",
     "height": 473
    },
    "id": "b5ZTcvvDd1ds",
    "outputId": "bfb6f859-4c6d-4f75-9079-eb752b74b477"
   },
   "outputs": [
    {
     "data": {
      "image/png": "[encoded data removed]",
      "text/plain": [
       "<Figure size 1080x576 with 1 Axes>"
      ]
     },
     "metadata": {},
     "output_type": "display_data"
    }
   ],
   "source": [
    "from matplotlib.pyplot import show\n",
    "import seaborn as sns\n",
    "\n",
    "plt.figure(figsize=(15,8))\n",
    "sns.set(style=\"darkgrid\")\n",
    "total = float(len(df_mod))\n",
    "ax = sns.countplot(x=\"WEATHER\", hue=\"SEVERITYDESC\", data=df_mod)\n",
    "for p in ax.patches:\n",
    "    height = p.get_height()\n",
    "    ax.text(p.get_x()+p.get_width()/2.,\n",
    "            height + 3,\n",
    "            '{:1.2%}'.format(height/total),\n",
    "            ha=\"center\") \n",
    "show()"
   ]
  },
  {
   "cell_type": "code",
   "execution_count": 39,
   "metadata": {
    "colab": {
     "base_uri": "https://localhost:8080/",
     "height": 473
    },
    "id": "1MpQzTW8d1d1",
    "outputId": "235088f2-0f24-4991-a652-5e2db1d2aaed"
   },
   "outputs": [
    {
     "data": {
      "image/png": "[encoded data removed]",
      "text/plain": [
       "<Figure size 1080x576 with 1 Axes>"
      ]
     },
     "metadata": {},
     "output_type": "display_data"
    }
   ],
   "source": [
    "from matplotlib.pyplot import show\n",
    "import seaborn as sns\n",
    "\n",
    "plt.figure(figsize=(15,8))\n",
    "sns.set(style=\"darkgrid\")\n",
    "total = float(len(df_mod))\n",
    "ax = sns.countplot(x=\"ROADCOND\", hue=\"SEVERITYDESC\", data=df_mod)\n",
    "for p in ax.patches:\n",
    "    height = p.get_height()\n",
    "    ax.text(p.get_x()+p.get_width()/2.,\n",
    "            height + 3,\n",
    "            '{:1.2%}'.format(height/total),\n",
    "            ha=\"center\") \n",
    "show()"
   ]
  },
  {
   "cell_type": "code",
   "execution_count": 40,
   "metadata": {
    "colab": {
     "base_uri": "https://localhost:8080/",
     "height": 473
    },
    "id": "AtDpW3qnd1eD",
    "outputId": "a6374c0f-7cc1-40b8-f7f3-420ee10f981a"
   },
   "outputs": [
    {
     "data": {
      "image/png": "[encoded data removed]",
      "text/plain": [
       "<Figure size 1080x576 with 1 Axes>"
      ]
     },
     "metadata": {},
     "output_type": "display_data"
    }
   ],
   "source": [
    "from matplotlib.pyplot import show\n",
    "import seaborn as sns\n",
    "\n",
    "plt.figure(figsize=(15,8))\n",
    "sns.set(style=\"darkgrid\")\n",
    "total = float(len(df_mod))\n",
    "ax = sns.countplot(x=\"LIGHTCOND\", hue=\"SEVERITYDESC\", data=df_mod)\n",
    "for p in ax.patches:\n",
    "    height = p.get_height()\n",
    "    ax.text(p.get_x()+p.get_width()/2.,\n",
    "            height + 3,\n",
    "            '{:1.2%}'.format(height/total),\n",
    "            ha=\"center\") \n",
    "show()"
   ]
  },
  {
   "cell_type": "code",
   "execution_count": 41,
   "metadata": {
    "colab": {
     "base_uri": "https://localhost:8080/",
     "height": 339
    },
    "id": "JaoMBYgVd1eQ",
    "outputId": "e655dbb7-93e1-4e68-ff99-0bdf8864aa74"
   },
   "outputs": [
    {
     "data": {
      "image/png": "[encoded data removed]",
      "text/plain": [
       "<Figure size 720x360 with 1 Axes>"
      ]
     },
     "metadata": {},
     "output_type": "display_data"
    }
   ],
   "source": [
    "from matplotlib.pyplot import show\n",
    "import seaborn as sns\n",
    "\n",
    "plt.figure(figsize=(10,5))\n",
    "sns.set(style=\"darkgrid\")\n",
    "total = float(len(df_mod))\n",
    "ax = sns.countplot(x=\"SPEEDING\", hue=\"SEVERITYDESC\", data=df_mod)\n",
    "for p in ax.patches:\n",
    "    height = p.get_height()\n",
    "    ax.text(p.get_x()+p.get_width()/2.,\n",
    "            height + 3,\n",
    "            '{:1.2%}'.format(height/total),\n",
    "            ha=\"center\") \n",
    "show()"
   ]
  },
  {
   "cell_type": "code",
   "execution_count": 42,
   "metadata": {
    "colab": {
     "base_uri": "https://localhost:8080/",
     "height": 285
    },
    "id": "dBuaXaBLd1eh",
    "outputId": "558ddeb7-1c6c-4a23-fe36-b2ac4d2cb085"
   },
   "outputs": [
    {
     "data": {
      "image/png": "[encoded data removed]",
      "text/plain": [
       "<Figure size 432x288 with 1 Axes>"
      ]
     },
     "metadata": {},
     "output_type": "display_data"
    }
   ],
   "source": [
    "sns.regplot(x=\"X\", y=\"Y\",data=df_map.head(100), ci=80)\n",
    "plt.show()"
   ]
  },
  {
   "cell_type": "code",
   "execution_count": 43,
   "metadata": {
    "colab": {
     "base_uri": "https://localhost:8080/",
     "height": 382
    },
    "id": "NzrbXx5Sd1e1",
    "outputId": "b0a16b5e-e515-48b3-9e14-49580e911b90"
   },
   "outputs": [
    {
     "data": {
      "image/png": "[encoded data removed]",
      "text/plain": [
       "<Figure size 446.55x360 with 1 Axes>"
      ]
     },
     "metadata": {},
     "output_type": "display_data"
    }
   ],
   "source": [
    "sns.catplot(x=\"ADDRTYPE\", y=\"X\", hue=\"SEVERITYCODE\",data=df_map, kind=\"violin\")\n",
    "plt.show()"
   ]
  },
  {
   "cell_type": "code",
   "execution_count": 44,
   "metadata": {
    "colab": {
     "base_uri": "https://localhost:8080/",
     "height": 226
    },
    "id": "zLmUNZOHd1fI",
    "outputId": "f9cfc3af-0187-43f0-83f2-0f259bc697d4"
   },
   "outputs": [
    {
     "data": {
      "text/html": [
       "<div>\n",
       "<style scoped>\n",
       "    .dataframe tbody tr th:only-of-type {\n",
       "        vertical-align: middle;\n",
       "    }\n",
       "\n",
       "    .dataframe tbody tr th {\n",
       "        vertical-align: top;\n",
       "    }\n",
       "\n",
       "    .dataframe thead th {\n",
       "        text-align: right;\n",
       "    }\n",
       "</style>\n",
       "<table border=\"1\" class=\"dataframe\">\n",
       "  <thead>\n",
       "    <tr style=\"text-align: right;\">\n",
       "      <th></th>\n",
       "      <th>SEVERITYDESC</th>\n",
       "      <th>ADDRTYPE</th>\n",
       "      <th>JUNCTIONTYPE</th>\n",
       "      <th>INATTENTIONIND</th>\n",
       "      <th>WEATHER</th>\n",
       "      <th>ROADCOND</th>\n",
       "      <th>LIGHTCOND</th>\n",
       "      <th>SPEEDING</th>\n",
       "      <th>HITPARKEDCAR</th>\n",
       "      <th>RiskTime</th>\n",
       "    </tr>\n",
       "  </thead>\n",
       "  <tbody>\n",
       "    <tr>\n",
       "      <th>count</th>\n",
       "      <td>194673</td>\n",
       "      <td>194673</td>\n",
       "      <td>194673</td>\n",
       "      <td>194673</td>\n",
       "      <td>194673</td>\n",
       "      <td>194673</td>\n",
       "      <td>194673</td>\n",
       "      <td>194673</td>\n",
       "      <td>194673</td>\n",
       "      <td>194673</td>\n",
       "    </tr>\n",
       "    <tr>\n",
       "      <th>unique</th>\n",
       "      <td>2</td>\n",
       "      <td>3</td>\n",
       "      <td>4</td>\n",
       "      <td>2</td>\n",
       "      <td>4</td>\n",
       "      <td>4</td>\n",
       "      <td>5</td>\n",
       "      <td>2</td>\n",
       "      <td>2</td>\n",
       "      <td>3</td>\n",
       "    </tr>\n",
       "    <tr>\n",
       "      <th>top</th>\n",
       "      <td>Property Damage Only Collision</td>\n",
       "      <td>Block</td>\n",
       "      <td>Mid-Block (not related to intersection)</td>\n",
       "      <td>N</td>\n",
       "      <td>Clear</td>\n",
       "      <td>Dry</td>\n",
       "      <td>Daylight</td>\n",
       "      <td>N</td>\n",
       "      <td>N</td>\n",
       "      <td>Medium</td>\n",
       "    </tr>\n",
       "    <tr>\n",
       "      <th>freq</th>\n",
       "      <td>136485</td>\n",
       "      <td>128852</td>\n",
       "      <td>96138</td>\n",
       "      <td>164868</td>\n",
       "      <td>116216</td>\n",
       "      <td>129522</td>\n",
       "      <td>121307</td>\n",
       "      <td>185340</td>\n",
       "      <td>187457</td>\n",
       "      <td>98559</td>\n",
       "    </tr>\n",
       "  </tbody>\n",
       "</table>\n",
       "</div>"
      ],
      "text/plain": [
       "                          SEVERITYDESC ADDRTYPE  \\\n",
       "count                           194673   194673   \n",
       "unique                               2        3   \n",
       "top     Property Damage Only Collision    Block   \n",
       "freq                            136485   128852   \n",
       "\n",
       "                                   JUNCTIONTYPE INATTENTIONIND WEATHER  \\\n",
       "count                                    194673         194673  194673   \n",
       "unique                                        4              2       4   \n",
       "top     Mid-Block (not related to intersection)              N   Clear   \n",
       "freq                                      96138         164868  116216   \n",
       "\n",
       "       ROADCOND LIGHTCOND SPEEDING HITPARKEDCAR RiskTime  \n",
       "count    194673    194673   194673       194673   194673  \n",
       "unique        4         5        2            2        3  \n",
       "top         Dry  Daylight        N            N   Medium  \n",
       "freq     129522    121307   185340       187457    98559  "
      ]
     },
     "execution_count": 44,
     "metadata": {},
     "output_type": "execute_result"
    }
   ],
   "source": [
    "df_mod.describe(include=['object'])"
   ]
  },
  {
   "cell_type": "code",
   "execution_count": 45,
   "metadata": {
    "colab": {
     "base_uri": "https://localhost:8080/"
    },
    "id": "ChSWZbh5d1fe",
    "outputId": "67684edf-eb67-4ae3-d3f6-1ab3efa6acdf"
   },
   "outputs": [
    {
     "data": {
      "text/plain": [
       "1    136485\n",
       "2     58188\n",
       "Name: SEVERITYCODE, dtype: int64"
      ]
     },
     "execution_count": 45,
     "metadata": {},
     "output_type": "execute_result"
    }
   ],
   "source": [
    "df_mod['SEVERITYCODE'].value_counts()"
   ]
  },
  {
   "cell_type": "code",
   "execution_count": 46,
   "metadata": {
    "colab": {
     "base_uri": "https://localhost:8080/"
    },
    "id": "MoKd6T1Wd1fv",
    "outputId": "6c305169-8d9d-4340-d033-653ac1ce8b00"
   },
   "outputs": [
    {
     "data": {
      "text/plain": [
       "array(['Intersection', 'Block', 'Alley'], dtype=object)"
      ]
     },
     "execution_count": 46,
     "metadata": {},
     "output_type": "execute_result"
    }
   ],
   "source": [
    "df_mod['ADDRTYPE'].unique()"
   ]
  },
  {
   "cell_type": "code",
   "execution_count": 47,
   "metadata": {
    "colab": {
     "base_uri": "https://localhost:8080/",
     "height": 415
    },
    "id": "6eMobNqRd1f8",
    "outputId": "23f2942d-386a-4245-ffaa-20dcb53e315c"
   },
   "outputs": [
    {
     "data": {
      "text/html": [
       "<div>\n",
       "<style scoped>\n",
       "    .dataframe tbody tr th:only-of-type {\n",
       "        vertical-align: middle;\n",
       "    }\n",
       "\n",
       "    .dataframe tbody tr th {\n",
       "        vertical-align: top;\n",
       "    }\n",
       "\n",
       "    .dataframe thead th {\n",
       "        text-align: right;\n",
       "    }\n",
       "</style>\n",
       "<table border=\"1\" class=\"dataframe\">\n",
       "  <thead>\n",
       "    <tr style=\"text-align: right;\">\n",
       "      <th></th>\n",
       "      <th>hourofday</th>\n",
       "      <th>ADDRTYPE</th>\n",
       "      <th>SEVERITYCODE</th>\n",
       "    </tr>\n",
       "  </thead>\n",
       "  <tbody>\n",
       "    <tr>\n",
       "      <th>0</th>\n",
       "      <td>0</td>\n",
       "      <td>Alley</td>\n",
       "      <td>1.124183</td>\n",
       "    </tr>\n",
       "    <tr>\n",
       "      <th>1</th>\n",
       "      <td>0</td>\n",
       "      <td>Block</td>\n",
       "      <td>1.216787</td>\n",
       "    </tr>\n",
       "    <tr>\n",
       "      <th>2</th>\n",
       "      <td>0</td>\n",
       "      <td>Intersection</td>\n",
       "      <td>1.391905</td>\n",
       "    </tr>\n",
       "    <tr>\n",
       "      <th>3</th>\n",
       "      <td>1</td>\n",
       "      <td>Alley</td>\n",
       "      <td>1.052632</td>\n",
       "    </tr>\n",
       "    <tr>\n",
       "      <th>4</th>\n",
       "      <td>1</td>\n",
       "      <td>Block</td>\n",
       "      <td>1.196220</td>\n",
       "    </tr>\n",
       "    <tr>\n",
       "      <th>...</th>\n",
       "      <td>...</td>\n",
       "      <td>...</td>\n",
       "      <td>...</td>\n",
       "    </tr>\n",
       "    <tr>\n",
       "      <th>67</th>\n",
       "      <td>22</td>\n",
       "      <td>Block</td>\n",
       "      <td>1.215426</td>\n",
       "    </tr>\n",
       "    <tr>\n",
       "      <th>68</th>\n",
       "      <td>22</td>\n",
       "      <td>Intersection</td>\n",
       "      <td>1.415429</td>\n",
       "    </tr>\n",
       "    <tr>\n",
       "      <th>69</th>\n",
       "      <td>23</td>\n",
       "      <td>Alley</td>\n",
       "      <td>1.107143</td>\n",
       "    </tr>\n",
       "    <tr>\n",
       "      <th>70</th>\n",
       "      <td>23</td>\n",
       "      <td>Block</td>\n",
       "      <td>1.181984</td>\n",
       "    </tr>\n",
       "    <tr>\n",
       "      <th>71</th>\n",
       "      <td>23</td>\n",
       "      <td>Intersection</td>\n",
       "      <td>1.393468</td>\n",
       "    </tr>\n",
       "  </tbody>\n",
       "</table>\n",
       "<p>72 rows × 3 columns</p>\n",
       "</div>"
      ],
      "text/plain": [
       "    hourofday      ADDRTYPE  SEVERITYCODE\n",
       "0           0         Alley      1.124183\n",
       "1           0         Block      1.216787\n",
       "2           0  Intersection      1.391905\n",
       "3           1         Alley      1.052632\n",
       "4           1         Block      1.196220\n",
       "..        ...           ...           ...\n",
       "67         22         Block      1.215426\n",
       "68         22  Intersection      1.415429\n",
       "69         23         Alley      1.107143\n",
       "70         23         Block      1.181984\n",
       "71         23  Intersection      1.393468\n",
       "\n",
       "[72 rows x 3 columns]"
      ]
     },
     "execution_count": 47,
     "metadata": {},
     "output_type": "execute_result"
    }
   ],
   "source": [
    "df_gptest = df_mod[['hourofday','ADDRTYPE','SEVERITYCODE']]\n",
    "grouped_test1 = df_gptest.groupby(['hourofday','ADDRTYPE'],as_index=False).mean()\n",
    "grouped_test1"
   ]
  },
  {
   "cell_type": "code",
   "execution_count": 48,
   "metadata": {
    "colab": {
     "base_uri": "https://localhost:8080/",
     "height": 222
    },
    "id": "u0_nni3Td1gO",
    "outputId": "b89dc55a-58df-455a-ef9f-86e4dcd31ac9"
   },
   "outputs": [
    {
     "data": {
      "text/html": [
       "<div>\n",
       "<style scoped>\n",
       "    .dataframe tbody tr th:only-of-type {\n",
       "        vertical-align: middle;\n",
       "    }\n",
       "\n",
       "    .dataframe tbody tr th {\n",
       "        vertical-align: top;\n",
       "    }\n",
       "\n",
       "    .dataframe thead tr th {\n",
       "        text-align: left;\n",
       "    }\n",
       "\n",
       "    .dataframe thead tr:last-of-type th {\n",
       "        text-align: right;\n",
       "    }\n",
       "</style>\n",
       "<table border=\"1\" class=\"dataframe\">\n",
       "  <thead>\n",
       "    <tr>\n",
       "      <th></th>\n",
       "      <th colspan=\"21\" halign=\"left\">SEVERITYCODE</th>\n",
       "    </tr>\n",
       "    <tr>\n",
       "      <th>hourofday</th>\n",
       "      <th>0</th>\n",
       "      <th>1</th>\n",
       "      <th>2</th>\n",
       "      <th>3</th>\n",
       "      <th>4</th>\n",
       "      <th>5</th>\n",
       "      <th>6</th>\n",
       "      <th>7</th>\n",
       "      <th>8</th>\n",
       "      <th>9</th>\n",
       "      <th>...</th>\n",
       "      <th>14</th>\n",
       "      <th>15</th>\n",
       "      <th>16</th>\n",
       "      <th>17</th>\n",
       "      <th>18</th>\n",
       "      <th>19</th>\n",
       "      <th>20</th>\n",
       "      <th>21</th>\n",
       "      <th>22</th>\n",
       "      <th>23</th>\n",
       "    </tr>\n",
       "    <tr>\n",
       "      <th>ADDRTYPE</th>\n",
       "      <th></th>\n",
       "      <th></th>\n",
       "      <th></th>\n",
       "      <th></th>\n",
       "      <th></th>\n",
       "      <th></th>\n",
       "      <th></th>\n",
       "      <th></th>\n",
       "      <th></th>\n",
       "      <th></th>\n",
       "      <th></th>\n",
       "      <th></th>\n",
       "      <th></th>\n",
       "      <th></th>\n",
       "      <th></th>\n",
       "      <th></th>\n",
       "      <th></th>\n",
       "      <th></th>\n",
       "      <th></th>\n",
       "      <th></th>\n",
       "      <th></th>\n",
       "    </tr>\n",
       "  </thead>\n",
       "  <tbody>\n",
       "    <tr>\n",
       "      <th>Alley</th>\n",
       "      <td>1.124183</td>\n",
       "      <td>1.052632</td>\n",
       "      <td>1.040000</td>\n",
       "      <td>1.142857</td>\n",
       "      <td>1.000000</td>\n",
       "      <td>1.333333</td>\n",
       "      <td>1.333333</td>\n",
       "      <td>1.166667</td>\n",
       "      <td>1.096774</td>\n",
       "      <td>1.071429</td>\n",
       "      <td>...</td>\n",
       "      <td>1.071429</td>\n",
       "      <td>1.136364</td>\n",
       "      <td>1.176471</td>\n",
       "      <td>1.031250</td>\n",
       "      <td>1.107143</td>\n",
       "      <td>1.166667</td>\n",
       "      <td>1.107143</td>\n",
       "      <td>1.047619</td>\n",
       "      <td>1.086957</td>\n",
       "      <td>1.107143</td>\n",
       "    </tr>\n",
       "    <tr>\n",
       "      <th>Block</th>\n",
       "      <td>1.216787</td>\n",
       "      <td>1.196220</td>\n",
       "      <td>1.198075</td>\n",
       "      <td>1.172387</td>\n",
       "      <td>1.181435</td>\n",
       "      <td>1.230241</td>\n",
       "      <td>1.236817</td>\n",
       "      <td>1.241329</td>\n",
       "      <td>1.260768</td>\n",
       "      <td>1.225813</td>\n",
       "      <td>...</td>\n",
       "      <td>1.252028</td>\n",
       "      <td>1.260887</td>\n",
       "      <td>1.270599</td>\n",
       "      <td>1.280489</td>\n",
       "      <td>1.267129</td>\n",
       "      <td>1.237556</td>\n",
       "      <td>1.208039</td>\n",
       "      <td>1.219358</td>\n",
       "      <td>1.215426</td>\n",
       "      <td>1.181984</td>\n",
       "    </tr>\n",
       "    <tr>\n",
       "      <th>Intersection</th>\n",
       "      <td>1.391905</td>\n",
       "      <td>1.379157</td>\n",
       "      <td>1.379545</td>\n",
       "      <td>1.341463</td>\n",
       "      <td>1.370370</td>\n",
       "      <td>1.441296</td>\n",
       "      <td>1.470270</td>\n",
       "      <td>1.477636</td>\n",
       "      <td>1.415385</td>\n",
       "      <td>1.434524</td>\n",
       "      <td>...</td>\n",
       "      <td>1.437236</td>\n",
       "      <td>1.443081</td>\n",
       "      <td>1.436065</td>\n",
       "      <td>1.464979</td>\n",
       "      <td>1.476082</td>\n",
       "      <td>1.459725</td>\n",
       "      <td>1.424631</td>\n",
       "      <td>1.428797</td>\n",
       "      <td>1.415429</td>\n",
       "      <td>1.393468</td>\n",
       "    </tr>\n",
       "  </tbody>\n",
       "</table>\n",
       "<p>3 rows × 24 columns</p>\n",
       "</div>"
      ],
      "text/plain": [
       "             SEVERITYCODE                                                    \\\n",
       "hourofday              0         1         2         3         4         5    \n",
       "ADDRTYPE                                                                      \n",
       "Alley            1.124183  1.052632  1.040000  1.142857  1.000000  1.333333   \n",
       "Block            1.216787  1.196220  1.198075  1.172387  1.181435  1.230241   \n",
       "Intersection     1.391905  1.379157  1.379545  1.341463  1.370370  1.441296   \n",
       "\n",
       "                                                      ...                      \\\n",
       "hourofday           6         7         8         9   ...        14        15   \n",
       "ADDRTYPE                                              ...                       \n",
       "Alley         1.333333  1.166667  1.096774  1.071429  ...  1.071429  1.136364   \n",
       "Block         1.236817  1.241329  1.260768  1.225813  ...  1.252028  1.260887   \n",
       "Intersection  1.470270  1.477636  1.415385  1.434524  ...  1.437236  1.443081   \n",
       "\n",
       "                                                                          \\\n",
       "hourofday           16        17        18        19        20        21   \n",
       "ADDRTYPE                                                                   \n",
       "Alley         1.176471  1.031250  1.107143  1.166667  1.107143  1.047619   \n",
       "Block         1.270599  1.280489  1.267129  1.237556  1.208039  1.219358   \n",
       "Intersection  1.436065  1.464979  1.476082  1.459725  1.424631  1.428797   \n",
       "\n",
       "                                  \n",
       "hourofday           22        23  \n",
       "ADDRTYPE                          \n",
       "Alley         1.086957  1.107143  \n",
       "Block         1.215426  1.181984  \n",
       "Intersection  1.415429  1.393468  \n",
       "\n",
       "[3 rows x 24 columns]"
      ]
     },
     "execution_count": 48,
     "metadata": {},
     "output_type": "execute_result"
    }
   ],
   "source": [
    "grouped_pivot = grouped_test1.pivot(index='ADDRTYPE',columns='hourofday')\n",
    "grouped_pivot"
   ]
  },
  {
   "cell_type": "code",
   "execution_count": 49,
   "metadata": {
    "colab": {
     "base_uri": "https://localhost:8080/"
    },
    "id": "NoBzjdBAd1gY",
    "outputId": "9744c50c-3ce9-441d-b53c-8d132339b213"
   },
   "outputs": [
    {
     "data": {
      "text/plain": [
       "SEVERITYCODE      False\n",
       "SEVERITYDESC      False\n",
       "ADDRTYPE          False\n",
       "INCDATE           False\n",
       "INCDTTM           False\n",
       "JUNCTIONTYPE      False\n",
       "INATTENTIONIND    False\n",
       "UNDERINFL          True\n",
       "WEATHER           False\n",
       "ROADCOND          False\n",
       "LIGHTCOND         False\n",
       "SPEEDING          False\n",
       "HITPARKEDCAR      False\n",
       "hourofday         False\n",
       "dayofweek         False\n",
       "weekend           False\n",
       "RiskTime          False\n",
       "dtype: bool"
      ]
     },
     "execution_count": 49,
     "metadata": {},
     "output_type": "execute_result"
    }
   ],
   "source": [
    "df_mod.isnull().any()\n"
   ]
  },
  {
   "cell_type": "code",
   "execution_count": 50,
   "metadata": {
    "id": "Y4i9y_PRd1gl"
   },
   "outputs": [],
   "source": [
    "y = df_mod[\"SEVERITYCODE\"]"
   ]
  },
  {
   "cell_type": "code",
   "execution_count": 51,
   "metadata": {
    "colab": {
     "base_uri": "https://localhost:8080/"
    },
    "id": "EYVVVZ_vd1gx",
    "outputId": "1dedae05-b0f5-4f0b-bdd6-c1da8b146706"
   },
   "outputs": [
    {
     "data": {
      "text/plain": [
       "array([['Intersection', 'At-Intersection', 'N', 0.0, 'Overcast', 'Wet',\n",
       "        'Daylight', 'N', 'Medium', 0],\n",
       "       ['Block', 'Mid-Block (not related to intersection)', 'N', 0.0,\n",
       "        'RainSnow', 'Wet', 'Dark-With-Light', 'N', 'High', 0],\n",
       "       ['Block', 'Mid-Block (not related to intersection)', 'N', 0.0,\n",
       "        'Overcast', 'Dry', 'Daylight', 'N', 'Medium', 0],\n",
       "       ['Block', 'Mid-Block (not related to intersection)', 'N', 0.0,\n",
       "        'Clear', 'Dry', 'Daylight', 'N', 'Medium', 1],\n",
       "       ['Intersection', 'At-Intersection', 'N', 0.0, 'RainSnow', 'Wet',\n",
       "        'Daylight', 'N', 'Medium', 0]], dtype=object)"
      ]
     },
     "execution_count": 51,
     "metadata": {},
     "output_type": "execute_result"
    }
   ],
   "source": [
    "Feature = df_mod[['ADDRTYPE', 'JUNCTIONTYPE', 'INATTENTIONIND', 'UNDERINFL', 'WEATHER', 'ROADCOND',\n",
    "       'LIGHTCOND', 'SPEEDING', 'RiskTime','weekend']]\n",
    "X = Feature.values\n",
    "X[0:5]"
   ]
  },
  {
   "cell_type": "code",
   "execution_count": 52,
   "metadata": {
    "colab": {
     "base_uri": "https://localhost:8080/"
    },
    "id": "6rRnHkAJd1hE",
    "outputId": "4f69c215-6850-446c-f0e8-4d1e0eca4538"
   },
   "outputs": [
    {
     "data": {
      "text/plain": [
       "0    112996\n",
       "1     81677\n",
       "Name: weekend, dtype: int64"
      ]
     },
     "execution_count": 52,
     "metadata": {},
     "output_type": "execute_result"
    }
   ],
   "source": [
    "df_mod['weekend'].value_counts()"
   ]
  },
  {
   "cell_type": "code",
   "execution_count": 53,
   "metadata": {
    "colab": {
     "base_uri": "https://localhost:8080/"
    },
    "id": "WeEM9pKkd1hZ",
    "outputId": "3d716a5b-5bdc-41c1-eac0-0075ae9ebb4a"
   },
   "outputs": [
    {
     "data": {
      "text/plain": [
       "ADDRTYPE           True\n",
       "JUNCTIONTYPE       True\n",
       "INATTENTIONIND     True\n",
       "UNDERINFL         False\n",
       "WEATHER            True\n",
       "ROADCOND           True\n",
       "LIGHTCOND          True\n",
       "SPEEDING           True\n",
       "RiskTime           True\n",
       "weekend           False\n",
       "dtype: bool"
      ]
     },
     "execution_count": 53,
     "metadata": {},
     "output_type": "execute_result"
    }
   ],
   "source": [
    "categorical_feature_mask = Feature.dtypes==object\n",
    "categorical_feature_mask"
   ]
  },
  {
   "cell_type": "code",
   "execution_count": 54,
   "metadata": {
    "colab": {
     "base_uri": "https://localhost:8080/"
    },
    "id": "7vUkpMQLd1hx",
    "outputId": "18fa6ff9-c5c0-4bc1-9cd2-f4a1f8c8769c"
   },
   "outputs": [
    {
     "data": {
      "text/plain": [
       "['ADDRTYPE',\n",
       " 'JUNCTIONTYPE',\n",
       " 'INATTENTIONIND',\n",
       " 'WEATHER',\n",
       " 'ROADCOND',\n",
       " 'LIGHTCOND',\n",
       " 'SPEEDING',\n",
       " 'RiskTime']"
      ]
     },
     "execution_count": 54,
     "metadata": {},
     "output_type": "execute_result"
    }
   ],
   "source": [
    "categorical_cols = Feature.columns[categorical_feature_mask].tolist()\n",
    "categorical_cols"
   ]
  },
  {
   "cell_type": "code",
   "execution_count": 55,
   "metadata": {
    "id": "UdoPdJsOd1h_"
   },
   "outputs": [],
   "source": [
    "from sklearn.preprocessing import LabelEncoder\n",
    "le = LabelEncoder()"
   ]
  },
  {
   "cell_type": "code",
   "execution_count": 56,
   "metadata": {
    "colab": {
     "base_uri": "https://localhost:8080/",
     "height": 479
    },
    "id": "hezCdSpbd1iV",
    "outputId": "6597e253-478f-4124-b9a9-f6350b334663"
   },
   "outputs": [
    {
     "name": "stderr",
     "output_type": "stream",
     "text": [
      "/home/jupyterlab/conda/envs/python/lib/python3.6/site-packages/pandas/core/frame.py:3065: SettingWithCopyWarning: \n",
      "A value is trying to be set on a copy of a slice from a DataFrame.\n",
      "Try using .loc[row_indexer,col_indexer] = value instead\n",
      "\n",
      "See the caveats in the documentation: https://pandas.pydata.org/pandas-docs/stable/user_guide/indexing.html#returning-a-view-versus-a-copy\n",
      "  self[k1] = value[k2]\n"
     ]
    },
    {
     "data": {
      "text/html": [
       "<div>\n",
       "<style scoped>\n",
       "    .dataframe tbody tr th:only-of-type {\n",
       "        vertical-align: middle;\n",
       "    }\n",
       "\n",
       "    .dataframe tbody tr th {\n",
       "        vertical-align: top;\n",
       "    }\n",
       "\n",
       "    .dataframe thead th {\n",
       "        text-align: right;\n",
       "    }\n",
       "</style>\n",
       "<table border=\"1\" class=\"dataframe\">\n",
       "  <thead>\n",
       "    <tr style=\"text-align: right;\">\n",
       "      <th></th>\n",
       "      <th>ADDRTYPE</th>\n",
       "      <th>JUNCTIONTYPE</th>\n",
       "      <th>INATTENTIONIND</th>\n",
       "      <th>WEATHER</th>\n",
       "      <th>ROADCOND</th>\n",
       "      <th>LIGHTCOND</th>\n",
       "      <th>SPEEDING</th>\n",
       "      <th>RiskTime</th>\n",
       "    </tr>\n",
       "  </thead>\n",
       "  <tbody>\n",
       "    <tr>\n",
       "      <th>0</th>\n",
       "      <td>2</td>\n",
       "      <td>0</td>\n",
       "      <td>0</td>\n",
       "      <td>1</td>\n",
       "      <td>3</td>\n",
       "      <td>2</td>\n",
       "      <td>0</td>\n",
       "      <td>2</td>\n",
       "    </tr>\n",
       "    <tr>\n",
       "      <th>1</th>\n",
       "      <td>1</td>\n",
       "      <td>2</td>\n",
       "      <td>0</td>\n",
       "      <td>2</td>\n",
       "      <td>3</td>\n",
       "      <td>1</td>\n",
       "      <td>0</td>\n",
       "      <td>0</td>\n",
       "    </tr>\n",
       "    <tr>\n",
       "      <th>2</th>\n",
       "      <td>1</td>\n",
       "      <td>2</td>\n",
       "      <td>0</td>\n",
       "      <td>1</td>\n",
       "      <td>0</td>\n",
       "      <td>2</td>\n",
       "      <td>0</td>\n",
       "      <td>2</td>\n",
       "    </tr>\n",
       "    <tr>\n",
       "      <th>3</th>\n",
       "      <td>1</td>\n",
       "      <td>2</td>\n",
       "      <td>0</td>\n",
       "      <td>0</td>\n",
       "      <td>0</td>\n",
       "      <td>2</td>\n",
       "      <td>0</td>\n",
       "      <td>2</td>\n",
       "    </tr>\n",
       "    <tr>\n",
       "      <th>4</th>\n",
       "      <td>2</td>\n",
       "      <td>0</td>\n",
       "      <td>0</td>\n",
       "      <td>2</td>\n",
       "      <td>3</td>\n",
       "      <td>2</td>\n",
       "      <td>0</td>\n",
       "      <td>2</td>\n",
       "    </tr>\n",
       "    <tr>\n",
       "      <th>5</th>\n",
       "      <td>2</td>\n",
       "      <td>0</td>\n",
       "      <td>0</td>\n",
       "      <td>0</td>\n",
       "      <td>0</td>\n",
       "      <td>2</td>\n",
       "      <td>0</td>\n",
       "      <td>0</td>\n",
       "    </tr>\n",
       "    <tr>\n",
       "      <th>6</th>\n",
       "      <td>2</td>\n",
       "      <td>0</td>\n",
       "      <td>0</td>\n",
       "      <td>2</td>\n",
       "      <td>3</td>\n",
       "      <td>2</td>\n",
       "      <td>0</td>\n",
       "      <td>0</td>\n",
       "    </tr>\n",
       "    <tr>\n",
       "      <th>7</th>\n",
       "      <td>2</td>\n",
       "      <td>0</td>\n",
       "      <td>0</td>\n",
       "      <td>0</td>\n",
       "      <td>0</td>\n",
       "      <td>2</td>\n",
       "      <td>0</td>\n",
       "      <td>0</td>\n",
       "    </tr>\n",
       "    <tr>\n",
       "      <th>8</th>\n",
       "      <td>1</td>\n",
       "      <td>2</td>\n",
       "      <td>0</td>\n",
       "      <td>0</td>\n",
       "      <td>0</td>\n",
       "      <td>2</td>\n",
       "      <td>0</td>\n",
       "      <td>2</td>\n",
       "    </tr>\n",
       "    <tr>\n",
       "      <th>9</th>\n",
       "      <td>2</td>\n",
       "      <td>0</td>\n",
       "      <td>0</td>\n",
       "      <td>0</td>\n",
       "      <td>0</td>\n",
       "      <td>2</td>\n",
       "      <td>0</td>\n",
       "      <td>2</td>\n",
       "    </tr>\n",
       "  </tbody>\n",
       "</table>\n",
       "</div>"
      ],
      "text/plain": [
       "   ADDRTYPE  JUNCTIONTYPE  INATTENTIONIND  WEATHER  ROADCOND  LIGHTCOND  \\\n",
       "0         2             0               0        1         3          2   \n",
       "1         1             2               0        2         3          1   \n",
       "2         1             2               0        1         0          2   \n",
       "3         1             2               0        0         0          2   \n",
       "4         2             0               0        2         3          2   \n",
       "5         2             0               0        0         0          2   \n",
       "6         2             0               0        2         3          2   \n",
       "7         2             0               0        0         0          2   \n",
       "8         1             2               0        0         0          2   \n",
       "9         2             0               0        0         0          2   \n",
       "\n",
       "   SPEEDING  RiskTime  \n",
       "0         0         2  \n",
       "1         0         0  \n",
       "2         0         2  \n",
       "3         0         2  \n",
       "4         0         2  \n",
       "5         0         0  \n",
       "6         0         0  \n",
       "7         0         0  \n",
       "8         0         2  \n",
       "9         0         2  "
      ]
     },
     "execution_count": 56,
     "metadata": {},
     "output_type": "execute_result"
    }
   ],
   "source": [
    "Feature[categorical_cols] = Feature[categorical_cols].apply(lambda col: le.fit_transform(col))\n",
    "Feature[categorical_cols].head(10)"
   ]
  },
  {
   "cell_type": "code",
   "execution_count": 57,
   "metadata": {
    "colab": {
     "base_uri": "https://localhost:8080/"
    },
    "id": "oIAm_pSed1iu",
    "outputId": "18f27be9-4f55-4127-9fb1-1850ad2b9d99"
   },
   "outputs": [
    {
     "data": {
      "text/plain": [
       "array([[2., 0., 0., 0., 1., 3., 2., 0., 2., 0.],\n",
       "       [1., 2., 0., 0., 2., 3., 1., 0., 0., 0.],\n",
       "       [1., 2., 0., 0., 1., 0., 2., 0., 2., 0.],\n",
       "       [1., 2., 0., 0., 0., 0., 2., 0., 2., 1.],\n",
       "       [2., 0., 0., 0., 2., 3., 2., 0., 2., 0.]])"
      ]
     },
     "execution_count": 57,
     "metadata": {},
     "output_type": "execute_result"
    }
   ],
   "source": [
    "X = Feature.values\n",
    "X[0:5]"
   ]
  },
  {
   "cell_type": "code",
   "execution_count": 58,
   "metadata": {
    "colab": {
     "base_uri": "https://localhost:8080/",
     "height": 487
    },
    "id": "oLrCd8Tjd1jF",
    "outputId": "1baf6f96-e128-470b-aa63-d38335f79161"
   },
   "outputs": [
    {
     "name": "stdout",
     "output_type": "stream",
     "text": [
      "(194673, 10)\n",
      "----After Dummy Fuction------\n",
      "(194673, 10)\n"
     ]
    },
    {
     "data": {
      "text/html": [
       "<div>\n",
       "<style scoped>\n",
       "    .dataframe tbody tr th:only-of-type {\n",
       "        vertical-align: middle;\n",
       "    }\n",
       "\n",
       "    .dataframe tbody tr th {\n",
       "        vertical-align: top;\n",
       "    }\n",
       "\n",
       "    .dataframe thead th {\n",
       "        text-align: right;\n",
       "    }\n",
       "</style>\n",
       "<table border=\"1\" class=\"dataframe\">\n",
       "  <thead>\n",
       "    <tr style=\"text-align: right;\">\n",
       "      <th></th>\n",
       "      <th>ADDRTYPE</th>\n",
       "      <th>JUNCTIONTYPE</th>\n",
       "      <th>INATTENTIONIND</th>\n",
       "      <th>UNDERINFL</th>\n",
       "      <th>WEATHER</th>\n",
       "      <th>ROADCOND</th>\n",
       "      <th>LIGHTCOND</th>\n",
       "      <th>SPEEDING</th>\n",
       "      <th>RiskTime</th>\n",
       "      <th>weekend</th>\n",
       "    </tr>\n",
       "  </thead>\n",
       "  <tbody>\n",
       "    <tr>\n",
       "      <th>0</th>\n",
       "      <td>2</td>\n",
       "      <td>0</td>\n",
       "      <td>0</td>\n",
       "      <td>0.0</td>\n",
       "      <td>1</td>\n",
       "      <td>3</td>\n",
       "      <td>2</td>\n",
       "      <td>0</td>\n",
       "      <td>2</td>\n",
       "      <td>0</td>\n",
       "    </tr>\n",
       "    <tr>\n",
       "      <th>1</th>\n",
       "      <td>1</td>\n",
       "      <td>2</td>\n",
       "      <td>0</td>\n",
       "      <td>0.0</td>\n",
       "      <td>2</td>\n",
       "      <td>3</td>\n",
       "      <td>1</td>\n",
       "      <td>0</td>\n",
       "      <td>0</td>\n",
       "      <td>0</td>\n",
       "    </tr>\n",
       "    <tr>\n",
       "      <th>2</th>\n",
       "      <td>1</td>\n",
       "      <td>2</td>\n",
       "      <td>0</td>\n",
       "      <td>0.0</td>\n",
       "      <td>1</td>\n",
       "      <td>0</td>\n",
       "      <td>2</td>\n",
       "      <td>0</td>\n",
       "      <td>2</td>\n",
       "      <td>0</td>\n",
       "    </tr>\n",
       "    <tr>\n",
       "      <th>3</th>\n",
       "      <td>1</td>\n",
       "      <td>2</td>\n",
       "      <td>0</td>\n",
       "      <td>0.0</td>\n",
       "      <td>0</td>\n",
       "      <td>0</td>\n",
       "      <td>2</td>\n",
       "      <td>0</td>\n",
       "      <td>2</td>\n",
       "      <td>1</td>\n",
       "    </tr>\n",
       "    <tr>\n",
       "      <th>4</th>\n",
       "      <td>2</td>\n",
       "      <td>0</td>\n",
       "      <td>0</td>\n",
       "      <td>0.0</td>\n",
       "      <td>2</td>\n",
       "      <td>3</td>\n",
       "      <td>2</td>\n",
       "      <td>0</td>\n",
       "      <td>2</td>\n",
       "      <td>0</td>\n",
       "    </tr>\n",
       "    <tr>\n",
       "      <th>...</th>\n",
       "      <td>...</td>\n",
       "      <td>...</td>\n",
       "      <td>...</td>\n",
       "      <td>...</td>\n",
       "      <td>...</td>\n",
       "      <td>...</td>\n",
       "      <td>...</td>\n",
       "      <td>...</td>\n",
       "      <td>...</td>\n",
       "      <td>...</td>\n",
       "    </tr>\n",
       "    <tr>\n",
       "      <th>194668</th>\n",
       "      <td>1</td>\n",
       "      <td>2</td>\n",
       "      <td>0</td>\n",
       "      <td>0.0</td>\n",
       "      <td>0</td>\n",
       "      <td>0</td>\n",
       "      <td>2</td>\n",
       "      <td>0</td>\n",
       "      <td>2</td>\n",
       "      <td>0</td>\n",
       "    </tr>\n",
       "    <tr>\n",
       "      <th>194669</th>\n",
       "      <td>1</td>\n",
       "      <td>2</td>\n",
       "      <td>1</td>\n",
       "      <td>0.0</td>\n",
       "      <td>2</td>\n",
       "      <td>3</td>\n",
       "      <td>2</td>\n",
       "      <td>0</td>\n",
       "      <td>2</td>\n",
       "      <td>0</td>\n",
       "    </tr>\n",
       "    <tr>\n",
       "      <th>194670</th>\n",
       "      <td>2</td>\n",
       "      <td>0</td>\n",
       "      <td>0</td>\n",
       "      <td>0.0</td>\n",
       "      <td>0</td>\n",
       "      <td>0</td>\n",
       "      <td>2</td>\n",
       "      <td>0</td>\n",
       "      <td>2</td>\n",
       "      <td>1</td>\n",
       "    </tr>\n",
       "    <tr>\n",
       "      <th>194671</th>\n",
       "      <td>2</td>\n",
       "      <td>0</td>\n",
       "      <td>0</td>\n",
       "      <td>0.0</td>\n",
       "      <td>0</td>\n",
       "      <td>0</td>\n",
       "      <td>3</td>\n",
       "      <td>0</td>\n",
       "      <td>2</td>\n",
       "      <td>0</td>\n",
       "    </tr>\n",
       "    <tr>\n",
       "      <th>194672</th>\n",
       "      <td>1</td>\n",
       "      <td>2</td>\n",
       "      <td>0</td>\n",
       "      <td>0.0</td>\n",
       "      <td>0</td>\n",
       "      <td>3</td>\n",
       "      <td>2</td>\n",
       "      <td>0</td>\n",
       "      <td>2</td>\n",
       "      <td>1</td>\n",
       "    </tr>\n",
       "  </tbody>\n",
       "</table>\n",
       "<p>194673 rows × 10 columns</p>\n",
       "</div>"
      ],
      "text/plain": [
       "        ADDRTYPE  JUNCTIONTYPE  INATTENTIONIND  UNDERINFL  WEATHER  ROADCOND  \\\n",
       "0              2             0               0        0.0        1         3   \n",
       "1              1             2               0        0.0        2         3   \n",
       "2              1             2               0        0.0        1         0   \n",
       "3              1             2               0        0.0        0         0   \n",
       "4              2             0               0        0.0        2         3   \n",
       "...          ...           ...             ...        ...      ...       ...   \n",
       "194668         1             2               0        0.0        0         0   \n",
       "194669         1             2               1        0.0        2         3   \n",
       "194670         2             0               0        0.0        0         0   \n",
       "194671         2             0               0        0.0        0         0   \n",
       "194672         1             2               0        0.0        0         3   \n",
       "\n",
       "        LIGHTCOND  SPEEDING  RiskTime  weekend  \n",
       "0               2         0         2        0  \n",
       "1               1         0         0        0  \n",
       "2               2         0         2        0  \n",
       "3               2         0         2        1  \n",
       "4               2         0         2        0  \n",
       "...           ...       ...       ...      ...  \n",
       "194668          2         0         2        0  \n",
       "194669          2         0         2        0  \n",
       "194670          2         0         2        1  \n",
       "194671          3         0         2        0  \n",
       "194672          2         0         2        1  \n",
       "\n",
       "[194673 rows x 10 columns]"
      ]
     },
     "execution_count": 58,
     "metadata": {},
     "output_type": "execute_result"
    }
   ],
   "source": [
    "print(Feature.shape)\n",
    "dummy_Feature = pd.get_dummies(Feature)\n",
    "print(\"----After Dummy Fuction------\")\n",
    "print(dummy_Feature.shape)\n",
    "dummy_Feature"
   ]
  },
  {
   "cell_type": "code",
   "execution_count": 59,
   "metadata": {
    "colab": {
     "base_uri": "https://localhost:8080/"
    },
    "id": "7W5k8FUHd1jO",
    "outputId": "f0b6628b-66b1-4a29-af48-30ddfe923ff1"
   },
   "outputs": [
    {
     "data": {
      "text/plain": [
       "array([[2., 0., 0., ..., 0., 2., 0.],\n",
       "       [1., 2., 0., ..., 0., 0., 0.],\n",
       "       [1., 2., 0., ..., 0., 2., 0.],\n",
       "       ...,\n",
       "       [2., 0., 0., ..., 0., 2., 1.],\n",
       "       [2., 0., 0., ..., 0., 2., 0.],\n",
       "       [1., 2., 0., ..., 0., 2., 1.]])"
      ]
     },
     "execution_count": 59,
     "metadata": {},
     "output_type": "execute_result"
    }
   ],
   "source": [
    "X = dummy_Feature.values\n",
    "X"
   ]
  },
  {
   "cell_type": "code",
   "execution_count": 60,
   "metadata": {
    "colab": {
     "base_uri": "https://localhost:8080/"
    },
    "id": "McBOzFm2d1ja",
    "outputId": "1b0865a4-803d-440a-c436-3c43ba0a0287"
   },
   "outputs": [
    {
     "name": "stdout",
     "output_type": "stream",
     "text": [
      "Train set: (116803, 10) (116803,)\n",
      "Test set: (77870, 10) (77870,)\n"
     ]
    }
   ],
   "source": [
    "from sklearn.model_selection import train_test_split\n",
    "X_train_raw, X_test, y_train_raw, y_test = train_test_split(X, y, test_size=0.4, random_state=4)\n",
    "print ('Train set:', X_train_raw.shape,  y_train_raw.shape)\n",
    "print ('Test set:', X_test.shape,  y_test.shape)"
   ]
  },
  {
   "cell_type": "code",
   "execution_count": 61,
   "metadata": {
    "colab": {
     "base_uri": "https://localhost:8080/"
    },
    "id": "iOoRFw6Nd1jj",
    "outputId": "e6eaa9be-9de2-4dce-a792-ba6229d9cf2e"
   },
   "outputs": [
    {
     "name": "stdout",
     "output_type": "stream",
     "text": [
      "Requirement already satisfied: imblearn in /home/jupyterlab/conda/envs/python/lib/python3.6/site-packages (0.0)\n",
      "Requirement already satisfied: imbalanced-learn in /home/jupyterlab/conda/envs/python/lib/python3.6/site-packages (from imblearn) (0.7.0)\n",
      "Requirement already satisfied: numpy>=1.13.3 in /home/jupyterlab/conda/envs/python/lib/python3.6/site-packages (from imbalanced-learn->imblearn) (1.19.2)\n",
      "Requirement already satisfied: scikit-learn>=0.23 in /home/jupyterlab/conda/envs/python/lib/python3.6/site-packages (from imbalanced-learn->imblearn) (0.23.2)\n",
      "Requirement already satisfied: joblib>=0.11 in /home/jupyterlab/conda/envs/python/lib/python3.6/site-packages (from imbalanced-learn->imblearn) (0.17.0)\n",
      "Requirement already satisfied: scipy>=0.19.1 in /home/jupyterlab/conda/envs/python/lib/python3.6/site-packages (from imbalanced-learn->imblearn) (1.5.3)\n",
      "Requirement already satisfied: threadpoolctl>=2.0.0 in /home/jupyterlab/conda/envs/python/lib/python3.6/site-packages (from scikit-learn>=0.23->imbalanced-learn->imblearn) (2.1.0)\n"
     ]
    }
   ],
   "source": [
    "!pip install imblearn"
   ]
  },
  {
   "cell_type": "code",
   "execution_count": 87,
   "metadata": {
    "colab": {
     "base_uri": "https://localhost:8080/",
     "height": 202
    },
    "id": "I5M_CgXmgtO3",
    "outputId": "573b5bf5-564b-48f9-f131-cd458e07fb30"
   },
   "outputs": [
    {
     "data": {
      "text/html": [
       "<div>\n",
       "<style scoped>\n",
       "    .dataframe tbody tr th:only-of-type {\n",
       "        vertical-align: middle;\n",
       "    }\n",
       "\n",
       "    .dataframe tbody tr th {\n",
       "        vertical-align: top;\n",
       "    }\n",
       "\n",
       "    .dataframe thead th {\n",
       "        text-align: right;\n",
       "    }\n",
       "</style>\n",
       "<table border=\"1\" class=\"dataframe\">\n",
       "  <thead>\n",
       "    <tr style=\"text-align: right;\">\n",
       "      <th></th>\n",
       "      <th>SEVERITYCODE</th>\n",
       "    </tr>\n",
       "  </thead>\n",
       "  <tbody>\n",
       "    <tr>\n",
       "      <th>0</th>\n",
       "      <td>1</td>\n",
       "    </tr>\n",
       "    <tr>\n",
       "      <th>1</th>\n",
       "      <td>1</td>\n",
       "    </tr>\n",
       "    <tr>\n",
       "      <th>2</th>\n",
       "      <td>2</td>\n",
       "    </tr>\n",
       "    <tr>\n",
       "      <th>3</th>\n",
       "      <td>1</td>\n",
       "    </tr>\n",
       "    <tr>\n",
       "      <th>4</th>\n",
       "      <td>1</td>\n",
       "    </tr>\n",
       "  </tbody>\n",
       "</table>\n",
       "</div>"
      ],
      "text/plain": [
       "   SEVERITYCODE\n",
       "0             1\n",
       "1             1\n",
       "2             2\n",
       "3             1\n",
       "4             1"
      ]
     },
     "execution_count": 87,
     "metadata": {},
     "output_type": "execute_result"
    }
   ],
   "source": [
    "df2=pd.DataFrame(y_train_raw)\n",
    "df2.reset_index(inplace=True)\n",
    "df2.drop(['index'],axis=1,inplace=True)\n",
    "df0=pd.DataFrame(y_test)\n",
    "df0.reset_index(inplace=True)\n",
    "df0.drop(['index'],axis=1,inplace=True)\n",
    "df2.head()"
   ]
  },
  {
   "cell_type": "code",
   "execution_count": 88,
   "metadata": {
    "colab": {
     "base_uri": "https://localhost:8080/",
     "height": 202
    },
    "id": "PtExxu1yoPt8",
    "outputId": "6e6df8b7-0941-4024-f7f3-cf51f5b65acd"
   },
   "outputs": [],
   "source": [
    "df=pd.DataFrame(X_train_raw)\n",
    "df1=pd.DataFrame(X_test)\n"
   ]
  },
  {
   "cell_type": "code",
   "execution_count": 89,
   "metadata": {
    "colab": {
     "base_uri": "https://localhost:8080/",
     "height": 202
    },
    "id": "_v4-xvuovc8g",
    "outputId": "5f92b9da-d601-4625-fdc3-2a6da9775c5c"
   },
   "outputs": [
    {
     "data": {
      "text/html": [
       "<div>\n",
       "<style scoped>\n",
       "    .dataframe tbody tr th:only-of-type {\n",
       "        vertical-align: middle;\n",
       "    }\n",
       "\n",
       "    .dataframe tbody tr th {\n",
       "        vertical-align: top;\n",
       "    }\n",
       "\n",
       "    .dataframe thead th {\n",
       "        text-align: right;\n",
       "    }\n",
       "</style>\n",
       "<table border=\"1\" class=\"dataframe\">\n",
       "  <thead>\n",
       "    <tr style=\"text-align: right;\">\n",
       "      <th></th>\n",
       "      <th>0</th>\n",
       "      <th>1</th>\n",
       "      <th>2</th>\n",
       "      <th>3</th>\n",
       "      <th>4</th>\n",
       "      <th>5</th>\n",
       "      <th>6</th>\n",
       "      <th>7</th>\n",
       "      <th>8</th>\n",
       "      <th>9</th>\n",
       "      <th>SEVERITYCODE</th>\n",
       "    </tr>\n",
       "  </thead>\n",
       "  <tbody>\n",
       "    <tr>\n",
       "      <th>0</th>\n",
       "      <td>1.0</td>\n",
       "      <td>2.0</td>\n",
       "      <td>0.0</td>\n",
       "      <td>0.0</td>\n",
       "      <td>1.0</td>\n",
       "      <td>3.0</td>\n",
       "      <td>2.0</td>\n",
       "      <td>0.0</td>\n",
       "      <td>2.0</td>\n",
       "      <td>1.0</td>\n",
       "      <td>1</td>\n",
       "    </tr>\n",
       "    <tr>\n",
       "      <th>1</th>\n",
       "      <td>1.0</td>\n",
       "      <td>2.0</td>\n",
       "      <td>1.0</td>\n",
       "      <td>0.0</td>\n",
       "      <td>0.0</td>\n",
       "      <td>0.0</td>\n",
       "      <td>1.0</td>\n",
       "      <td>0.0</td>\n",
       "      <td>0.0</td>\n",
       "      <td>0.0</td>\n",
       "      <td>1</td>\n",
       "    </tr>\n",
       "    <tr>\n",
       "      <th>2</th>\n",
       "      <td>1.0</td>\n",
       "      <td>2.0</td>\n",
       "      <td>1.0</td>\n",
       "      <td>0.0</td>\n",
       "      <td>0.0</td>\n",
       "      <td>0.0</td>\n",
       "      <td>2.0</td>\n",
       "      <td>0.0</td>\n",
       "      <td>2.0</td>\n",
       "      <td>0.0</td>\n",
       "      <td>2</td>\n",
       "    </tr>\n",
       "    <tr>\n",
       "      <th>3</th>\n",
       "      <td>1.0</td>\n",
       "      <td>2.0</td>\n",
       "      <td>0.0</td>\n",
       "      <td>0.0</td>\n",
       "      <td>3.0</td>\n",
       "      <td>2.0</td>\n",
       "      <td>4.0</td>\n",
       "      <td>0.0</td>\n",
       "      <td>2.0</td>\n",
       "      <td>1.0</td>\n",
       "      <td>1</td>\n",
       "    </tr>\n",
       "    <tr>\n",
       "      <th>4</th>\n",
       "      <td>1.0</td>\n",
       "      <td>2.0</td>\n",
       "      <td>0.0</td>\n",
       "      <td>0.0</td>\n",
       "      <td>0.0</td>\n",
       "      <td>0.0</td>\n",
       "      <td>2.0</td>\n",
       "      <td>0.0</td>\n",
       "      <td>2.0</td>\n",
       "      <td>1.0</td>\n",
       "      <td>1</td>\n",
       "    </tr>\n",
       "  </tbody>\n",
       "</table>\n",
       "</div>"
      ],
      "text/plain": [
       "     0    1    2    3    4    5    6    7    8    9  SEVERITYCODE\n",
       "0  1.0  2.0  0.0  0.0  1.0  3.0  2.0  0.0  2.0  1.0             1\n",
       "1  1.0  2.0  1.0  0.0  0.0  0.0  1.0  0.0  0.0  0.0             1\n",
       "2  1.0  2.0  1.0  0.0  0.0  0.0  2.0  0.0  2.0  0.0             2\n",
       "3  1.0  2.0  0.0  0.0  3.0  2.0  4.0  0.0  2.0  1.0             1\n",
       "4  1.0  2.0  0.0  0.0  0.0  0.0  2.0  0.0  2.0  1.0             1"
      ]
     },
     "execution_count": 89,
     "metadata": {},
     "output_type": "execute_result"
    }
   ],
   "source": [
    "df3=pd.concat([df,df2],axis=1)\n",
    "df5=pd.concat([df1,df0],axis=1)\n",
    "df3.head()"
   ]
  },
  {
   "cell_type": "code",
   "execution_count": 90,
   "metadata": {
    "colab": {
     "base_uri": "https://localhost:8080/"
    },
    "id": "EylSqceOvmco",
    "outputId": "75157748-b819-4980-b60e-6ad62bfe2acd"
   },
   "outputs": [
    {
     "data": {
      "text/plain": [
       "(75938, 10)"
      ]
     },
     "execution_count": 90,
     "metadata": {},
     "output_type": "execute_result"
    }
   ],
   "source": [
    "df3.dropna(inplace=True)\n",
    "y_train_raw=np.array(df3['SEVERITYCODE'])\n",
    "y_train_raw.shape\n",
    "df4=df3.drop(['SEVERITYCODE'],axis=1)\n",
    "X_train_raw=np.array(df4)\n",
    "X_train_raw.shape\n",
    "df5.dropna(inplace=True)\n",
    "y_test=np.array(df5['SEVERITYCODE'])\n",
    "y_test.shape\n",
    "df6=df5.drop(['SEVERITYCODE'],axis=1)\n",
    "X_test=np.array(df6)\n",
    "X_test.shape"
   ]
  },
  {
   "cell_type": "code",
   "execution_count": 91,
   "metadata": {
    "id": "MyulJ6WMu5kl"
   },
   "outputs": [],
   "source": [
    "y_train_raw=df3['SEVERITYCODE']\n",
    "y_test=df5['SEVERITYCODE']"
   ]
  },
  {
   "cell_type": "code",
   "execution_count": 67,
   "metadata": {
    "colab": {
     "base_uri": "https://localhost:8080/"
    },
    "id": "cyrEsF7Yu-1N",
    "outputId": "ded161b1-3e04-4947-b4c4-75f71f394271"
   },
   "outputs": [
    {
     "data": {
      "text/plain": [
       "0    1\n",
       "1    1\n",
       "2    2\n",
       "3    1\n",
       "4    1\n",
       "Name: SEVERITYCODE, dtype: int64"
      ]
     },
     "execution_count": 67,
     "metadata": {},
     "output_type": "execute_result"
    }
   ],
   "source": [
    "y_train_raw.head()"
   ]
  },
  {
   "cell_type": "code",
   "execution_count": 92,
   "metadata": {},
   "outputs": [
    {
     "data": {
      "text/plain": [
       "0    2\n",
       "1    1\n",
       "2    1\n",
       "3    2\n",
       "4    2\n",
       "Name: SEVERITYCODE, dtype: int64"
      ]
     },
     "execution_count": 92,
     "metadata": {},
     "output_type": "execute_result"
    }
   ],
   "source": [
    "y_test.head()"
   ]
  },
  {
   "cell_type": "code",
   "execution_count": 68,
   "metadata": {
    "colab": {
     "base_uri": "https://localhost:8080/"
    },
    "id": "xkgKGtsKd1jt",
    "outputId": "c3037b98-3939-4815-a72a-8353c318c04e"
   },
   "outputs": [
    {
     "name": "stdout",
     "output_type": "stream",
     "text": [
      "Train set: (159098, 10) (159098,)\n"
     ]
    }
   ],
   "source": [
    "import imblearn\n",
    "from imblearn.over_sampling import SMOTE\n",
    "os = SMOTE(random_state=2)\n",
    "X_train, y_train = os.fit_sample(X_train_raw, y_train_raw)\n",
    "print ('Train set:', X_train.shape,  y_train.shape)"
   ]
  },
  {
   "cell_type": "code",
   "execution_count": 69,
   "metadata": {
    "id": "cgQ0LC1ed1jz"
   },
   "outputs": [
    {
     "name": "stdout",
     "output_type": "stream",
     "text": [
      "----------Sample % before SMOTE--------------\n",
      "1    0.698711\n",
      "2    0.301289\n",
      "Name: SEVERITYCODE, dtype: float64\n",
      "----------Sample % After SMOTE --------------\n",
      "2    0.5\n",
      "1    0.5\n",
      "Name: SEVERITYCODE, dtype: float64\n"
     ]
    }
   ],
   "source": [
    "print(\"----------Sample % before SMOTE--------------\")\n",
    "print(y_train_raw.value_counts()/len(y_train_raw))\n",
    "print(\"----------Sample % After SMOTE --------------\")\n",
    "print(pd.Series(y_train).value_counts()/len(y_train))"
   ]
  },
  {
   "cell_type": "code",
   "execution_count": 70,
   "metadata": {},
   "outputs": [],
   "source": [
    "from sklearn.neighbors import KNeighborsClassifier\n",
    "from sklearn.model_selection import GridSearchCV\n",
    "from sklearn import metrics\n",
    "grid_params = {'n_neighbors': [i for i in range(1, 10)]}\n",
    "grid = GridSearchCV(KNeighborsClassifier(),grid_params,cv = 5)\n",
    "grid_results = grid.fit(X_train, y_train)"
   ]
  },
  {
   "cell_type": "code",
   "execution_count": 71,
   "metadata": {},
   "outputs": [
    {
     "data": {
      "text/plain": [
       "<AxesSubplot:>"
      ]
     },
     "execution_count": 71,
     "metadata": {},
     "output_type": "execute_result"
    },
    {
     "data": {
      "image/png": "[encoded data removed]",
      "text/plain": [
       "<Figure size 432x288 with 1 Axes>"
      ]
     },
     "metadata": {},
     "output_type": "display_data"
    }
   ],
   "source": [
    "sns.set_style(\"whitegrid\")\n",
    "sns.lineplot(grid_params['n_neighbors'], grid_results.cv_results_['mean_test_score'], palette=\"hls\", linewidth=2)"
   ]
  },
  {
   "cell_type": "code",
   "execution_count": 72,
   "metadata": {},
   "outputs": [
    {
     "name": "stdout",
     "output_type": "stream",
     "text": [
      "The best n_neighbors was  :  9\n",
      "The best accuracy was with: 0.55\n"
     ]
    }
   ],
   "source": [
    "print(\"The best n_neighbors was  : \", grid_results.best_params_['n_neighbors'])\n",
    "print(\"The best accuracy was with:\", grid_results.best_score_.round(2))"
   ]
  },
  {
   "cell_type": "code",
   "execution_count": 73,
   "metadata": {},
   "outputs": [],
   "source": [
    "neigh = KNeighborsClassifier(n_neighbors = 9).fit(X_train,y_train)\n",
    "yhat_train = neigh.predict(X_train)"
   ]
  },
  {
   "cell_type": "code",
   "execution_count": 74,
   "metadata": {},
   "outputs": [
    {
     "name": "stdout",
     "output_type": "stream",
     "text": [
      "KNN Accuracy     : 0.55\n",
      "KNN Jaccard index: 0.46\n",
      "KNN F1-score     : 0.53\n"
     ]
    }
   ],
   "source": [
    "print(\"KNN Accuracy     : {:.2f}\".format(metrics.accuracy_score(y_train, yhat_train)))\n",
    "print(\"KNN Jaccard index: {:.2f}\".format(metrics.jaccard_score(y_train, yhat_train)))\n",
    "print(\"KNN F1-score     : {:.2f}\".format(metrics.f1_score(y_train, yhat_train, average='weighted')))"
   ]
  },
  {
   "cell_type": "code",
   "execution_count": 75,
   "metadata": {},
   "outputs": [
    {
     "name": "stdout",
     "output_type": "stream",
     "text": [
      "[[61555 17994]\n",
      " [53158 26391]]\n",
      "              precision    recall  f1-score   support\n",
      "\n",
      "           1       0.54      0.77      0.63     79549\n",
      "           2       0.59      0.33      0.43     79549\n",
      "\n",
      "    accuracy                           0.55    159098\n",
      "   macro avg       0.57      0.55      0.53    159098\n",
      "weighted avg       0.57      0.55      0.53    159098\n",
      "\n"
     ]
    },
    {
     "data": {
      "image/png": "[encoded data removed]",
      "text/plain": [
       "<Figure size 432x288 with 2 Axes>"
      ]
     },
     "metadata": {},
     "output_type": "display_data"
    }
   ],
   "source": [
    "import sklearn\n",
    "from sklearn.metrics import classification_report, confusion_matrix\n",
    "from sklearn.metrics import plot_confusion_matrix\n",
    "\n",
    "print(confusion_matrix(y_train, yhat_train))\n",
    "print(classification_report(y_train, yhat_train))\n",
    "\n",
    "plot_confusion_matrix(neigh, X_train, y_train, include_values=True)\n",
    "plt.show()"
   ]
  },
  {
   "cell_type": "code",
   "execution_count": 93,
   "metadata": {},
   "outputs": [
    {
     "name": "stdout",
     "output_type": "stream",
     "text": [
      "[[40644 12437]\n",
      " [15730  7127]]\n",
      "              precision    recall  f1-score   support\n",
      "\n",
      "           1       0.72      0.77      0.74     53081\n",
      "           2       0.36      0.31      0.34     22857\n",
      "\n",
      "    accuracy                           0.63     75938\n",
      "   macro avg       0.54      0.54      0.54     75938\n",
      "weighted avg       0.61      0.63      0.62     75938\n",
      "\n"
     ]
    },
    {
     "data": {
      "image/png": "[encoded data removed]",
      "text/plain": [
       "<Figure size 432x288 with 2 Axes>"
      ]
     },
     "metadata": {},
     "output_type": "display_data"
    }
   ],
   "source": [
    "yhat_test = neigh.predict(X_test)\n",
    "\n",
    "print(confusion_matrix(y_test, yhat_test))\n",
    "print(classification_report(y_test, yhat_test))\n",
    "\n",
    "plot_confusion_matrix(neigh, X_test, y_test, include_values=True)\n",
    "plt.show()"
   ]
  },
  {
   "cell_type": "code",
   "execution_count": 78,
   "metadata": {},
   "outputs": [
    {
     "name": "stdout",
     "output_type": "stream",
     "text": [
      "The best tree_depth was:  23\n",
      "The best accuracy was  :  0.6293982813372049\n"
     ]
    },
    {
     "data": {
      "image/png": "[encoded data removed]",
      "text/plain": [
       "<Figure size 432x288 with 1 Axes>"
      ]
     },
     "metadata": {},
     "output_type": "display_data"
    }
   ],
   "source": [
    "from sklearn.tree import DecisionTreeClassifier\n",
    "from sklearn import tree\n",
    "import matplotlib.image as mpimg\n",
    "\n",
    "tree_grid_params = {'criterion': ['entropy'], 'max_depth': [i for i in range(3,30)]}\n",
    "tree_grid = GridSearchCV(tree.DecisionTreeClassifier(), tree_grid_params, cv = 3)\n",
    "tree_grid_results = tree_grid.fit(X_train, y_train)\n",
    "\n",
    "sns.set_style(\"whitegrid\")\n",
    "sns.lineplot(tree_grid_params['max_depth'], tree_grid_results.cv_results_['mean_test_score'], palette=\"hls\", linewidth=2)\n",
    "print(\"The best tree_depth was: \",tree_grid_results.best_params_[\"max_depth\"])\n",
    "print(\"The best accuracy was  : \",tree_grid_results.best_score_)"
   ]
  },
  {
   "cell_type": "code",
   "execution_count": 79,
   "metadata": {},
   "outputs": [],
   "source": [
    "carTree = DecisionTreeClassifier(criterion=\"entropy\", max_depth = tree_grid_results.best_params_.get('max_depth'))\n",
    "carTree.fit(X_train,y_train)\n",
    "y_predTree = carTree.predict(X_train)"
   ]
  },
  {
   "cell_type": "code",
   "execution_count": 80,
   "metadata": {},
   "outputs": [
    {
     "name": "stdout",
     "output_type": "stream",
     "text": [
      "loanTree Jaccard index: 0.45\n",
      "loanTree F1-score     : 0.64\n"
     ]
    }
   ],
   "source": [
    "print(\"loanTree Jaccard index: {:.2f}\".format(metrics.jaccard_score(y_train, y_predTree)))\n",
    "print(\"loanTree F1-score     : {:.2f}\".format(metrics.f1_score(y_train, y_predTree, average='weighted')))"
   ]
  },
  {
   "cell_type": "code",
   "execution_count": 81,
   "metadata": {},
   "outputs": [
    {
     "name": "stdout",
     "output_type": "stream",
     "text": [
      "[[46329 33220]\n",
      " [23332 56217]]\n",
      "              precision    recall  f1-score   support\n",
      "\n",
      "           1       0.67      0.58      0.62     79549\n",
      "           2       0.63      0.71      0.67     79549\n",
      "\n",
      "    accuracy                           0.64    159098\n",
      "   macro avg       0.65      0.64      0.64    159098\n",
      "weighted avg       0.65      0.64      0.64    159098\n",
      "\n"
     ]
    },
    {
     "data": {
      "image/png": "[encoded data removed]",
      "text/plain": [
       "<Figure size 432x288 with 2 Axes>"
      ]
     },
     "metadata": {},
     "output_type": "display_data"
    }
   ],
   "source": [
    "import sklearn\n",
    "from sklearn.metrics import classification_report, confusion_matrix\n",
    "from sklearn.metrics import plot_confusion_matrix\n",
    "\n",
    "print(confusion_matrix(y_train, y_predTree))\n",
    "print(classification_report(y_train, y_predTree))\n",
    "\n",
    "plot_confusion_matrix(carTree, X_train, y_train, include_values=True)\n",
    "plt.show()"
   ]
  },
  {
   "cell_type": "code",
   "execution_count": 94,
   "metadata": {},
   "outputs": [
    {
     "name": "stdout",
     "output_type": "stream",
     "text": [
      "[[30294 22787]\n",
      " [ 7736 15121]]\n",
      "              precision    recall  f1-score   support\n",
      "\n",
      "           1       0.80      0.57      0.66     53081\n",
      "           2       0.40      0.66      0.50     22857\n",
      "\n",
      "    accuracy                           0.60     75938\n",
      "   macro avg       0.60      0.62      0.58     75938\n",
      "weighted avg       0.68      0.60      0.61     75938\n",
      "\n"
     ]
    },
    {
     "data": {
      "image/png": "[encoded data removed]",
      "text/plain": [
       "<Figure size 432x288 with 2 Axes>"
      ]
     },
     "metadata": {},
     "output_type": "display_data"
    }
   ],
   "source": [
    "y_test_predTree = carTree.predict(X_test)\n",
    "print(confusion_matrix(y_test, y_test_predTree))\n",
    "print(classification_report(y_test, y_test_predTree))\n",
    "plot_confusion_matrix(carTree, X_test, y_test, include_values=True)\n",
    "plt.show()"
   ]
  },
  {
   "cell_type": "code",
   "execution_count": 82,
   "metadata": {},
   "outputs": [
    {
     "name": "stderr",
     "output_type": "stream",
     "text": [
      "/home/jupyterlab/conda/envs/python/lib/python3.6/site-packages/sklearn/model_selection/_validation.py:552: FitFailedWarning: Estimator fit failed. The score on this train-test partition for these parameters will be set to nan. Details: \n",
      "Traceback (most recent call last):\n",
      "  File \"/home/jupyterlab/conda/envs/python/lib/python3.6/site-packages/sklearn/model_selection/_validation.py\", line 531, in _fit_and_score\n",
      "    estimator.fit(X_train, y_train, **fit_params)\n",
      "  File \"/home/jupyterlab/conda/envs/python/lib/python3.6/site-packages/sklearn/linear_model/_logistic.py\", line 1304, in fit\n",
      "    solver = _check_solver(self.solver, self.penalty, self.dual)\n",
      "  File \"/home/jupyterlab/conda/envs/python/lib/python3.6/site-packages/sklearn/linear_model/_logistic.py\", line 443, in _check_solver\n",
      "    \"got %s penalty.\" % (solver, penalty))\n",
      "ValueError: Solver lbfgs supports only 'l2' or 'none' penalties, got l1 penalty.\n",
      "\n",
      "  FitFailedWarning)\n",
      "/home/jupyterlab/conda/envs/python/lib/python3.6/site-packages/sklearn/model_selection/_validation.py:552: FitFailedWarning: Estimator fit failed. The score on this train-test partition for these parameters will be set to nan. Details: \n",
      "Traceback (most recent call last):\n",
      "  File \"/home/jupyterlab/conda/envs/python/lib/python3.6/site-packages/sklearn/model_selection/_validation.py\", line 531, in _fit_and_score\n",
      "    estimator.fit(X_train, y_train, **fit_params)\n",
      "  File \"/home/jupyterlab/conda/envs/python/lib/python3.6/site-packages/sklearn/linear_model/_logistic.py\", line 1304, in fit\n",
      "    solver = _check_solver(self.solver, self.penalty, self.dual)\n",
      "  File \"/home/jupyterlab/conda/envs/python/lib/python3.6/site-packages/sklearn/linear_model/_logistic.py\", line 443, in _check_solver\n",
      "    \"got %s penalty.\" % (solver, penalty))\n",
      "ValueError: Solver lbfgs supports only 'l2' or 'none' penalties, got l1 penalty.\n",
      "\n",
      "  FitFailedWarning)\n",
      "/home/jupyterlab/conda/envs/python/lib/python3.6/site-packages/sklearn/model_selection/_validation.py:552: FitFailedWarning: Estimator fit failed. The score on this train-test partition for these parameters will be set to nan. Details: \n",
      "Traceback (most recent call last):\n",
      "  File \"/home/jupyterlab/conda/envs/python/lib/python3.6/site-packages/sklearn/model_selection/_validation.py\", line 531, in _fit_and_score\n",
      "    estimator.fit(X_train, y_train, **fit_params)\n",
      "  File \"/home/jupyterlab/conda/envs/python/lib/python3.6/site-packages/sklearn/linear_model/_logistic.py\", line 1304, in fit\n",
      "    solver = _check_solver(self.solver, self.penalty, self.dual)\n",
      "  File \"/home/jupyterlab/conda/envs/python/lib/python3.6/site-packages/sklearn/linear_model/_logistic.py\", line 443, in _check_solver\n",
      "    \"got %s penalty.\" % (solver, penalty))\n",
      "ValueError: Solver lbfgs supports only 'l2' or 'none' penalties, got l1 penalty.\n",
      "\n",
      "  FitFailedWarning)\n",
      "/home/jupyterlab/conda/envs/python/lib/python3.6/site-packages/sklearn/model_selection/_validation.py:552: FitFailedWarning: Estimator fit failed. The score on this train-test partition for these parameters will be set to nan. Details: \n",
      "Traceback (most recent call last):\n",
      "  File \"/home/jupyterlab/conda/envs/python/lib/python3.6/site-packages/sklearn/model_selection/_validation.py\", line 531, in _fit_and_score\n",
      "    estimator.fit(X_train, y_train, **fit_params)\n",
      "  File \"/home/jupyterlab/conda/envs/python/lib/python3.6/site-packages/sklearn/linear_model/_logistic.py\", line 1304, in fit\n",
      "    solver = _check_solver(self.solver, self.penalty, self.dual)\n",
      "  File \"/home/jupyterlab/conda/envs/python/lib/python3.6/site-packages/sklearn/linear_model/_logistic.py\", line 443, in _check_solver\n",
      "    \"got %s penalty.\" % (solver, penalty))\n",
      "ValueError: Solver lbfgs supports only 'l2' or 'none' penalties, got l1 penalty.\n",
      "\n",
      "  FitFailedWarning)\n",
      "/home/jupyterlab/conda/envs/python/lib/python3.6/site-packages/sklearn/model_selection/_validation.py:552: FitFailedWarning: Estimator fit failed. The score on this train-test partition for these parameters will be set to nan. Details: \n",
      "Traceback (most recent call last):\n",
      "  File \"/home/jupyterlab/conda/envs/python/lib/python3.6/site-packages/sklearn/model_selection/_validation.py\", line 531, in _fit_and_score\n",
      "    estimator.fit(X_train, y_train, **fit_params)\n",
      "  File \"/home/jupyterlab/conda/envs/python/lib/python3.6/site-packages/sklearn/linear_model/_logistic.py\", line 1304, in fit\n",
      "    solver = _check_solver(self.solver, self.penalty, self.dual)\n",
      "  File \"/home/jupyterlab/conda/envs/python/lib/python3.6/site-packages/sklearn/linear_model/_logistic.py\", line 443, in _check_solver\n",
      "    \"got %s penalty.\" % (solver, penalty))\n",
      "ValueError: Solver lbfgs supports only 'l2' or 'none' penalties, got l1 penalty.\n",
      "\n",
      "  FitFailedWarning)\n",
      "/home/jupyterlab/conda/envs/python/lib/python3.6/site-packages/sklearn/model_selection/_validation.py:552: FitFailedWarning: Estimator fit failed. The score on this train-test partition for these parameters will be set to nan. Details: \n",
      "Traceback (most recent call last):\n",
      "  File \"/home/jupyterlab/conda/envs/python/lib/python3.6/site-packages/sklearn/model_selection/_validation.py\", line 531, in _fit_and_score\n",
      "    estimator.fit(X_train, y_train, **fit_params)\n",
      "  File \"/home/jupyterlab/conda/envs/python/lib/python3.6/site-packages/sklearn/linear_model/_logistic.py\", line 1304, in fit\n",
      "    solver = _check_solver(self.solver, self.penalty, self.dual)\n",
      "  File \"/home/jupyterlab/conda/envs/python/lib/python3.6/site-packages/sklearn/linear_model/_logistic.py\", line 443, in _check_solver\n",
      "    \"got %s penalty.\" % (solver, penalty))\n",
      "ValueError: Solver lbfgs supports only 'l2' or 'none' penalties, got l1 penalty.\n",
      "\n",
      "  FitFailedWarning)\n"
     ]
    },
    {
     "name": "stdout",
     "output_type": "stream",
     "text": [
      "The best parameter was:  {'C': 1.0, 'penalty': 'l2'}\n",
      "The best accuracy was :  0.6150800301785415\n"
     ]
    }
   ],
   "source": [
    "from sklearn.linear_model import LogisticRegression\n",
    "from sklearn.metrics import confusion_matrix\n",
    "\n",
    "grid_params = {\"C\":np.logspace(-3,3,7), \"penalty\":[\"l1\",\"l2\"]}\n",
    "LR_grid = GridSearchCV(LogisticRegression(),grid_params,cv=3)\n",
    "LR_grid.fit(X_train,y_train)\n",
    "\n",
    "print(\"The best parameter was: \",LR_grid.best_params_)\n",
    "print(\"The best accuracy was : \",LR_grid.best_score_)"
   ]
  },
  {
   "cell_type": "code",
   "execution_count": 84,
   "metadata": {},
   "outputs": [],
   "source": [
    "LR = LogisticRegression(C=0.01, solver='liblinear',penalty='l2').fit(X_train,y_train)\n",
    "yhat_train_LR = LR.predict(X_train)\n",
    "yhat_train_LR_prob = LR.predict_proba(X_train)"
   ]
  },
  {
   "cell_type": "code",
   "execution_count": 85,
   "metadata": {},
   "outputs": [
    {
     "name": "stdout",
     "output_type": "stream",
     "text": [
      "LR Jaccard index: 0.45\n",
      "LR F1-score     : 0.61\n",
      "LR Log Loss     : 0.65\n"
     ]
    }
   ],
   "source": [
    "print(\"LR Jaccard index: {:.2f}\".format(metrics.jaccard_score(y_train, yhat_train_LR)))\n",
    "print(\"LR F1-score     : {:.2f}\".format(metrics.f1_score(y_train, yhat_train_LR, average='weighted')))\n",
    "print(\"LR Log Loss     : {:.2f}\".format(metrics.log_loss(y_train, yhat_train_LR_prob)))"
   ]
  },
  {
   "cell_type": "code",
   "execution_count": 86,
   "metadata": {},
   "outputs": [
    {
     "name": "stdout",
     "output_type": "stream",
     "text": [
      "[[50817 28732]\n",
      " [32504 47045]]\n",
      "              precision    recall  f1-score   support\n",
      "\n",
      "           1       0.61      0.64      0.62     79549\n",
      "           2       0.62      0.59      0.61     79549\n",
      "\n",
      "    accuracy                           0.62    159098\n",
      "   macro avg       0.62      0.62      0.61    159098\n",
      "weighted avg       0.62      0.62      0.61    159098\n",
      "\n"
     ]
    },
    {
     "data": {
      "image/png": "[encoded data removed]",
      "text/plain": [
       "<Figure size 432x288 with 2 Axes>"
      ]
     },
     "metadata": {},
     "output_type": "display_data"
    }
   ],
   "source": [
    "import sklearn\n",
    "from sklearn.metrics import classification_report, confusion_matrix\n",
    "from sklearn.metrics import plot_confusion_matrix\n",
    "\n",
    "print(confusion_matrix(y_train, yhat_train_LR))\n",
    "print(classification_report(y_train, yhat_train_LR))\n",
    "\n",
    "plot_confusion_matrix(LR, X_train, y_train, include_values=True)\n",
    "plt.show()"
   ]
  },
  {
   "cell_type": "code",
   "execution_count": 95,
   "metadata": {},
   "outputs": [
    {
     "name": "stdout",
     "output_type": "stream",
     "text": [
      "[[33582 19499]\n",
      " [ 9362 13495]]\n",
      "              precision    recall  f1-score   support\n",
      "\n",
      "           1       0.78      0.63      0.70     53081\n",
      "           2       0.41      0.59      0.48     22857\n",
      "\n",
      "    accuracy                           0.62     75938\n",
      "   macro avg       0.60      0.61      0.59     75938\n",
      "weighted avg       0.67      0.62      0.63     75938\n",
      "\n"
     ]
    },
    {
     "data": {
      "image/png": "[encoded data removed]",
      "text/plain": [
       "<Figure size 432x288 with 2 Axes>"
      ]
     },
     "metadata": {},
     "output_type": "display_data"
    }
   ],
   "source": [
    "yhat_test_LR = LR.predict(X_test)\n",
    "\n",
    "print(confusion_matrix(y_test, yhat_test_LR))\n",
    "print(classification_report(y_test, yhat_test_LR))\n",
    "\n",
    "plot_confusion_matrix(LR, X_test, y_test, include_values=True)\n",
    "plt.show()"
   ]
  },
  {
   "cell_type": "code",
   "execution_count": null,
   "metadata": {},
   "outputs": [],
   "source": []
  }
 ],
 "metadata": {
  "colab": {
   "collapsed_sections": [],
   "name": "Applied Capstone Data Science Project.ipynb",
   "provenance": [],
   "toc_visible": true
  },
  "kernelspec": {
   "display_name": "Python",
   "language": "python",
   "name": "conda-env-python-py"
  },
  "language_info": {
   "codemirror_mode": {
    "name": "ipython",
    "version": 3
   },
   "file_extension": ".py",
   "mimetype": "text/x-python",
   "name": "python",
   "nbconvert_exporter": "python",
   "pygments_lexer": "ipython3",
   "version": "3.6.11"
  }
 },
 "nbformat": 4,
 "nbformat_minor": 4
}
